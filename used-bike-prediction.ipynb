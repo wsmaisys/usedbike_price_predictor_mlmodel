{
 "cells": [
  {
   "cell_type": "code",
   "execution_count": 1,
   "metadata": {
    "_cell_guid": "b1076dfc-b9ad-4769-8c92-a6c4dae69d19",
    "_uuid": "8f2839f25d086af736a60e9eeb907d3b93b6e0e5",
    "execution": {
     "iopub.execute_input": "2025-05-21T14:38:35.577524Z",
     "iopub.status.busy": "2025-05-21T14:38:35.577048Z",
     "iopub.status.idle": "2025-05-21T14:38:36.093253Z",
     "shell.execute_reply": "2025-05-21T14:38:36.092026Z",
     "shell.execute_reply.started": "2025-05-21T14:38:35.577450Z"
    },
    "trusted": true
   },
   "outputs": [],
   "source": [
    "import numpy as np \n",
    "import pandas as pd "
   ]
  },
  {
   "cell_type": "code",
   "execution_count": 2,
   "metadata": {
    "execution": {
     "iopub.execute_input": "2025-05-21T14:38:36.095757Z",
     "iopub.status.busy": "2025-05-21T14:38:36.095277Z",
     "iopub.status.idle": "2025-05-21T14:38:36.210405Z",
     "shell.execute_reply": "2025-05-21T14:38:36.209449Z",
     "shell.execute_reply.started": "2025-05-21T14:38:36.095730Z"
    },
    "trusted": true
   },
   "outputs": [],
   "source": [
    "df = pd.read_csv(r'C:\\Users\\user\\OneDrive\\wasimansari-iitm\\Used-bike-price-predictor\\used-bikes-data.csv')"
   ]
  },
  {
   "cell_type": "code",
   "execution_count": 3,
   "metadata": {
    "execution": {
     "iopub.execute_input": "2025-05-21T14:38:36.211725Z",
     "iopub.status.busy": "2025-05-21T14:38:36.211437Z",
     "iopub.status.idle": "2025-05-21T14:38:36.245073Z",
     "shell.execute_reply": "2025-05-21T14:38:36.244131Z",
     "shell.execute_reply.started": "2025-05-21T14:38:36.211702Z"
    },
    "trusted": true
   },
   "outputs": [
    {
     "data": {
      "text/html": [
       "<div>\n",
       "<style scoped>\n",
       "    .dataframe tbody tr th:only-of-type {\n",
       "        vertical-align: middle;\n",
       "    }\n",
       "\n",
       "    .dataframe tbody tr th {\n",
       "        vertical-align: top;\n",
       "    }\n",
       "\n",
       "    .dataframe thead th {\n",
       "        text-align: right;\n",
       "    }\n",
       "</style>\n",
       "<table border=\"1\" class=\"dataframe\">\n",
       "  <thead>\n",
       "    <tr style=\"text-align: right;\">\n",
       "      <th></th>\n",
       "      <th>bike_name</th>\n",
       "      <th>price</th>\n",
       "      <th>city</th>\n",
       "      <th>kms_driven</th>\n",
       "      <th>owner</th>\n",
       "      <th>age</th>\n",
       "      <th>power</th>\n",
       "      <th>brand</th>\n",
       "    </tr>\n",
       "  </thead>\n",
       "  <tbody>\n",
       "    <tr>\n",
       "      <th>0</th>\n",
       "      <td>TVS Star City Plus Dual Tone 110cc</td>\n",
       "      <td>35000.0</td>\n",
       "      <td>Ahmedabad</td>\n",
       "      <td>17654.0</td>\n",
       "      <td>First Owner</td>\n",
       "      <td>3.0</td>\n",
       "      <td>110.0</td>\n",
       "      <td>TVS</td>\n",
       "    </tr>\n",
       "    <tr>\n",
       "      <th>1</th>\n",
       "      <td>Royal Enfield Classic 350cc</td>\n",
       "      <td>119900.0</td>\n",
       "      <td>Delhi</td>\n",
       "      <td>11000.0</td>\n",
       "      <td>First Owner</td>\n",
       "      <td>4.0</td>\n",
       "      <td>350.0</td>\n",
       "      <td>Royal Enfield</td>\n",
       "    </tr>\n",
       "    <tr>\n",
       "      <th>2</th>\n",
       "      <td>Triumph Daytona 675R</td>\n",
       "      <td>600000.0</td>\n",
       "      <td>Delhi</td>\n",
       "      <td>110.0</td>\n",
       "      <td>First Owner</td>\n",
       "      <td>8.0</td>\n",
       "      <td>675.0</td>\n",
       "      <td>Triumph</td>\n",
       "    </tr>\n",
       "    <tr>\n",
       "      <th>3</th>\n",
       "      <td>TVS Apache RTR 180cc</td>\n",
       "      <td>65000.0</td>\n",
       "      <td>Bangalore</td>\n",
       "      <td>16329.0</td>\n",
       "      <td>First Owner</td>\n",
       "      <td>4.0</td>\n",
       "      <td>180.0</td>\n",
       "      <td>TVS</td>\n",
       "    </tr>\n",
       "    <tr>\n",
       "      <th>4</th>\n",
       "      <td>Yamaha FZ S V 2.0 150cc-Ltd. Edition</td>\n",
       "      <td>80000.0</td>\n",
       "      <td>Bangalore</td>\n",
       "      <td>10000.0</td>\n",
       "      <td>First Owner</td>\n",
       "      <td>3.0</td>\n",
       "      <td>150.0</td>\n",
       "      <td>Yamaha</td>\n",
       "    </tr>\n",
       "  </tbody>\n",
       "</table>\n",
       "</div>"
      ],
      "text/plain": [
       "                              bike_name     price       city  kms_driven  \\\n",
       "0    TVS Star City Plus Dual Tone 110cc   35000.0  Ahmedabad     17654.0   \n",
       "1           Royal Enfield Classic 350cc  119900.0      Delhi     11000.0   \n",
       "2                  Triumph Daytona 675R  600000.0      Delhi       110.0   \n",
       "3                  TVS Apache RTR 180cc   65000.0  Bangalore     16329.0   \n",
       "4  Yamaha FZ S V 2.0 150cc-Ltd. Edition   80000.0  Bangalore     10000.0   \n",
       "\n",
       "         owner  age  power          brand  \n",
       "0  First Owner  3.0  110.0            TVS  \n",
       "1  First Owner  4.0  350.0  Royal Enfield  \n",
       "2  First Owner  8.0  675.0        Triumph  \n",
       "3  First Owner  4.0  180.0            TVS  \n",
       "4  First Owner  3.0  150.0         Yamaha  "
      ]
     },
     "execution_count": 3,
     "metadata": {},
     "output_type": "execute_result"
    }
   ],
   "source": [
    "df.head()"
   ]
  },
  {
   "cell_type": "code",
   "execution_count": 4,
   "metadata": {
    "execution": {
     "iopub.execute_input": "2025-05-21T14:38:36.246611Z",
     "iopub.status.busy": "2025-05-21T14:38:36.246207Z",
     "iopub.status.idle": "2025-05-21T14:38:36.270637Z",
     "shell.execute_reply": "2025-05-21T14:38:36.269538Z",
     "shell.execute_reply.started": "2025-05-21T14:38:36.246576Z"
    },
    "trusted": true
   },
   "outputs": [
    {
     "data": {
      "text/plain": [
       "bike_name      471\n",
       "price         1232\n",
       "city           443\n",
       "kms_driven    3722\n",
       "owner            4\n",
       "age             35\n",
       "power           53\n",
       "brand           23\n",
       "dtype: int64"
      ]
     },
     "execution_count": 4,
     "metadata": {},
     "output_type": "execute_result"
    }
   ],
   "source": [
    "df.nunique()"
   ]
  },
  {
   "cell_type": "code",
   "execution_count": 5,
   "metadata": {
    "execution": {
     "iopub.execute_input": "2025-05-21T14:38:36.272000Z",
     "iopub.status.busy": "2025-05-21T14:38:36.271666Z",
     "iopub.status.idle": "2025-05-21T14:38:36.298673Z",
     "shell.execute_reply": "2025-05-21T14:38:36.297758Z",
     "shell.execute_reply.started": "2025-05-21T14:38:36.271972Z"
    },
    "trusted": true
   },
   "outputs": [
    {
     "data": {
      "text/html": [
       "<div>\n",
       "<style scoped>\n",
       "    .dataframe tbody tr th:only-of-type {\n",
       "        vertical-align: middle;\n",
       "    }\n",
       "\n",
       "    .dataframe tbody tr th {\n",
       "        vertical-align: top;\n",
       "    }\n",
       "\n",
       "    .dataframe thead th {\n",
       "        text-align: right;\n",
       "    }\n",
       "</style>\n",
       "<table border=\"1\" class=\"dataframe\">\n",
       "  <thead>\n",
       "    <tr style=\"text-align: right;\">\n",
       "      <th></th>\n",
       "      <th>bike_name</th>\n",
       "      <th>price</th>\n",
       "      <th>city</th>\n",
       "      <th>kms_driven</th>\n",
       "      <th>owner</th>\n",
       "      <th>age</th>\n",
       "      <th>power</th>\n",
       "      <th>brand</th>\n",
       "    </tr>\n",
       "  </thead>\n",
       "  <tbody>\n",
       "    <tr>\n",
       "      <th>4056</th>\n",
       "      <td>Bajaj Pulsar 220cc</td>\n",
       "      <td>37000.0</td>\n",
       "      <td>Delhi</td>\n",
       "      <td>12500.0</td>\n",
       "      <td>First Owner</td>\n",
       "      <td>8.0</td>\n",
       "      <td>220.0</td>\n",
       "      <td>Bajaj</td>\n",
       "    </tr>\n",
       "    <tr>\n",
       "      <th>17122</th>\n",
       "      <td>Bajaj Avenger Street 220</td>\n",
       "      <td>60000.0</td>\n",
       "      <td>Delhi</td>\n",
       "      <td>20373.0</td>\n",
       "      <td>First Owner</td>\n",
       "      <td>6.0</td>\n",
       "      <td>220.0</td>\n",
       "      <td>Bajaj</td>\n",
       "    </tr>\n",
       "    <tr>\n",
       "      <th>13410</th>\n",
       "      <td>Bajaj Avenger Street 220</td>\n",
       "      <td>70000.0</td>\n",
       "      <td>Mumbai</td>\n",
       "      <td>8000.0</td>\n",
       "      <td>First Owner</td>\n",
       "      <td>5.0</td>\n",
       "      <td>220.0</td>\n",
       "      <td>Bajaj</td>\n",
       "    </tr>\n",
       "    <tr>\n",
       "      <th>23070</th>\n",
       "      <td>Bajaj Dominar 400 ABS</td>\n",
       "      <td>139000.0</td>\n",
       "      <td>Hyderabad</td>\n",
       "      <td>21300.0</td>\n",
       "      <td>First Owner</td>\n",
       "      <td>4.0</td>\n",
       "      <td>400.0</td>\n",
       "      <td>Bajaj</td>\n",
       "    </tr>\n",
       "    <tr>\n",
       "      <th>27469</th>\n",
       "      <td>Bajaj Pulsar 150cc</td>\n",
       "      <td>25000.0</td>\n",
       "      <td>Delhi</td>\n",
       "      <td>32588.0</td>\n",
       "      <td>First Owner</td>\n",
       "      <td>9.0</td>\n",
       "      <td>150.0</td>\n",
       "      <td>Bajaj</td>\n",
       "    </tr>\n",
       "  </tbody>\n",
       "</table>\n",
       "</div>"
      ],
      "text/plain": [
       "                      bike_name     price       city  kms_driven        owner  \\\n",
       "4056         Bajaj Pulsar 220cc   37000.0      Delhi     12500.0  First Owner   \n",
       "17122  Bajaj Avenger Street 220   60000.0      Delhi     20373.0  First Owner   \n",
       "13410  Bajaj Avenger Street 220   70000.0     Mumbai      8000.0  First Owner   \n",
       "23070     Bajaj Dominar 400 ABS  139000.0  Hyderabad     21300.0  First Owner   \n",
       "27469        Bajaj Pulsar 150cc   25000.0      Delhi     32588.0  First Owner   \n",
       "\n",
       "       age  power  brand  \n",
       "4056   8.0  220.0  Bajaj  \n",
       "17122  6.0  220.0  Bajaj  \n",
       "13410  5.0  220.0  Bajaj  \n",
       "23070  4.0  400.0  Bajaj  \n",
       "27469  9.0  150.0  Bajaj  "
      ]
     },
     "execution_count": 5,
     "metadata": {},
     "output_type": "execute_result"
    }
   ],
   "source": [
    "df[df['brand'] == 'Bajaj'].sample(5)"
   ]
  },
  {
   "cell_type": "code",
   "execution_count": 6,
   "metadata": {
    "execution": {
     "iopub.execute_input": "2025-05-21T14:38:36.300244Z",
     "iopub.status.busy": "2025-05-21T14:38:36.299913Z",
     "iopub.status.idle": "2025-05-21T14:38:36.307719Z",
     "shell.execute_reply": "2025-05-21T14:38:36.306397Z",
     "shell.execute_reply.started": "2025-05-21T14:38:36.300210Z"
    },
    "trusted": true
   },
   "outputs": [
    {
     "data": {
      "text/plain": [
       "(32648, 8)"
      ]
     },
     "execution_count": 6,
     "metadata": {},
     "output_type": "execute_result"
    }
   ],
   "source": [
    "df.shape"
   ]
  },
  {
   "cell_type": "code",
   "execution_count": 7,
   "metadata": {
    "execution": {
     "iopub.execute_input": "2025-05-21T14:38:36.309283Z",
     "iopub.status.busy": "2025-05-21T14:38:36.308989Z",
     "iopub.status.idle": "2025-05-21T14:38:36.348040Z",
     "shell.execute_reply": "2025-05-21T14:38:36.346928Z",
     "shell.execute_reply.started": "2025-05-21T14:38:36.309257Z"
    },
    "trusted": true
   },
   "outputs": [
    {
     "name": "stdout",
     "output_type": "stream",
     "text": [
      "<class 'pandas.core.frame.DataFrame'>\n",
      "RangeIndex: 32648 entries, 0 to 32647\n",
      "Data columns (total 8 columns):\n",
      " #   Column      Non-Null Count  Dtype  \n",
      "---  ------      --------------  -----  \n",
      " 0   bike_name   32648 non-null  object \n",
      " 1   price       32648 non-null  float64\n",
      " 2   city        32648 non-null  object \n",
      " 3   kms_driven  32648 non-null  float64\n",
      " 4   owner       32648 non-null  object \n",
      " 5   age         32648 non-null  float64\n",
      " 6   power       32648 non-null  float64\n",
      " 7   brand       32648 non-null  object \n",
      "dtypes: float64(4), object(4)\n",
      "memory usage: 2.0+ MB\n"
     ]
    }
   ],
   "source": [
    "df.info()"
   ]
  },
  {
   "cell_type": "code",
   "execution_count": 8,
   "metadata": {
    "execution": {
     "iopub.execute_input": "2025-05-21T14:38:36.353247Z",
     "iopub.status.busy": "2025-05-21T14:38:36.352235Z",
     "iopub.status.idle": "2025-05-21T14:38:36.362384Z",
     "shell.execute_reply": "2025-05-21T14:38:36.361364Z",
     "shell.execute_reply.started": "2025-05-21T14:38:36.353212Z"
    },
    "trusted": true
   },
   "outputs": [
    {
     "data": {
      "text/plain": [
       "owner\n",
       "First Owner             29964\n",
       "Second Owner             2564\n",
       "Third Owner               108\n",
       "Fourth Owner Or More       12\n",
       "Name: count, dtype: int64"
      ]
     },
     "execution_count": 8,
     "metadata": {},
     "output_type": "execute_result"
    }
   ],
   "source": [
    "df['owner'].value_counts()"
   ]
  },
  {
   "cell_type": "code",
   "execution_count": 9,
   "metadata": {
    "execution": {
     "iopub.execute_input": "2025-05-21T14:38:36.363895Z",
     "iopub.status.busy": "2025-05-21T14:38:36.363550Z",
     "iopub.status.idle": "2025-05-21T14:38:36.406883Z",
     "shell.execute_reply": "2025-05-21T14:38:36.405804Z",
     "shell.execute_reply.started": "2025-05-21T14:38:36.363863Z"
    },
    "trusted": true
   },
   "outputs": [
    {
     "data": {
      "text/html": [
       "<div>\n",
       "<style scoped>\n",
       "    .dataframe tbody tr th:only-of-type {\n",
       "        vertical-align: middle;\n",
       "    }\n",
       "\n",
       "    .dataframe tbody tr th {\n",
       "        vertical-align: top;\n",
       "    }\n",
       "\n",
       "    .dataframe thead th {\n",
       "        text-align: right;\n",
       "    }\n",
       "</style>\n",
       "<table border=\"1\" class=\"dataframe\">\n",
       "  <thead>\n",
       "    <tr style=\"text-align: right;\">\n",
       "      <th></th>\n",
       "      <th>price</th>\n",
       "      <th>kms_driven</th>\n",
       "      <th>age</th>\n",
       "      <th>power</th>\n",
       "    </tr>\n",
       "  </thead>\n",
       "  <tbody>\n",
       "    <tr>\n",
       "      <th>count</th>\n",
       "      <td>3.264800e+04</td>\n",
       "      <td>32648.000000</td>\n",
       "      <td>32648.000000</td>\n",
       "      <td>32648.000000</td>\n",
       "    </tr>\n",
       "    <tr>\n",
       "      <th>mean</th>\n",
       "      <td>6.829542e+04</td>\n",
       "      <td>26344.625184</td>\n",
       "      <td>8.048211</td>\n",
       "      <td>213.511302</td>\n",
       "    </tr>\n",
       "    <tr>\n",
       "      <th>std</th>\n",
       "      <td>9.071860e+04</td>\n",
       "      <td>22208.527695</td>\n",
       "      <td>4.031700</td>\n",
       "      <td>134.428868</td>\n",
       "    </tr>\n",
       "    <tr>\n",
       "      <th>min</th>\n",
       "      <td>4.400000e+03</td>\n",
       "      <td>1.000000</td>\n",
       "      <td>1.000000</td>\n",
       "      <td>100.000000</td>\n",
       "    </tr>\n",
       "    <tr>\n",
       "      <th>25%</th>\n",
       "      <td>2.500000e+04</td>\n",
       "      <td>12000.000000</td>\n",
       "      <td>5.000000</td>\n",
       "      <td>150.000000</td>\n",
       "    </tr>\n",
       "    <tr>\n",
       "      <th>50%</th>\n",
       "      <td>4.300000e+04</td>\n",
       "      <td>20373.000000</td>\n",
       "      <td>7.000000</td>\n",
       "      <td>150.000000</td>\n",
       "    </tr>\n",
       "    <tr>\n",
       "      <th>75%</th>\n",
       "      <td>8.000000e+04</td>\n",
       "      <td>35000.000000</td>\n",
       "      <td>10.000000</td>\n",
       "      <td>220.000000</td>\n",
       "    </tr>\n",
       "    <tr>\n",
       "      <th>max</th>\n",
       "      <td>1.900000e+06</td>\n",
       "      <td>750000.000000</td>\n",
       "      <td>63.000000</td>\n",
       "      <td>1800.000000</td>\n",
       "    </tr>\n",
       "  </tbody>\n",
       "</table>\n",
       "</div>"
      ],
      "text/plain": [
       "              price     kms_driven           age         power\n",
       "count  3.264800e+04   32648.000000  32648.000000  32648.000000\n",
       "mean   6.829542e+04   26344.625184      8.048211    213.511302\n",
       "std    9.071860e+04   22208.527695      4.031700    134.428868\n",
       "min    4.400000e+03       1.000000      1.000000    100.000000\n",
       "25%    2.500000e+04   12000.000000      5.000000    150.000000\n",
       "50%    4.300000e+04   20373.000000      7.000000    150.000000\n",
       "75%    8.000000e+04   35000.000000     10.000000    220.000000\n",
       "max    1.900000e+06  750000.000000     63.000000   1800.000000"
      ]
     },
     "execution_count": 9,
     "metadata": {},
     "output_type": "execute_result"
    }
   ],
   "source": [
    "df.describe()"
   ]
  },
  {
   "cell_type": "code",
   "execution_count": 10,
   "metadata": {
    "execution": {
     "iopub.execute_input": "2025-05-21T14:38:36.408367Z",
     "iopub.status.busy": "2025-05-21T14:38:36.407954Z",
     "iopub.status.idle": "2025-05-21T14:38:36.423254Z",
     "shell.execute_reply": "2025-05-21T14:38:36.422266Z",
     "shell.execute_reply.started": "2025-05-21T14:38:36.408335Z"
    },
    "trusted": true
   },
   "outputs": [
    {
     "data": {
      "text/plain": [
       "city\n",
       "Delhi            7318\n",
       "Bangalore        2723\n",
       "Mumbai           2591\n",
       "Hyderabad        2160\n",
       "Pune             1724\n",
       "                 ... \n",
       "Surendranagar       1\n",
       "Khandela            1\n",
       "Mohammadabad        1\n",
       "Shimla              1\n",
       "Sidhi               1\n",
       "Name: count, Length: 443, dtype: int64"
      ]
     },
     "execution_count": 10,
     "metadata": {},
     "output_type": "execute_result"
    }
   ],
   "source": [
    "df['city'].value_counts()"
   ]
  },
  {
   "cell_type": "code",
   "execution_count": 11,
   "metadata": {
    "execution": {
     "iopub.execute_input": "2025-05-21T14:38:36.424995Z",
     "iopub.status.busy": "2025-05-21T14:38:36.424618Z",
     "iopub.status.idle": "2025-05-21T14:38:36.464479Z",
     "shell.execute_reply": "2025-05-21T14:38:36.463343Z",
     "shell.execute_reply.started": "2025-05-21T14:38:36.424964Z"
    },
    "trusted": true
   },
   "outputs": [],
   "source": [
    "def remove_first_and_last_word(name):\n",
    "    words = name.split()\n",
    "    if len(words) <= 2:\n",
    "        return ''  # not enough words to keep anything\n",
    "    return ' '.join(words[1:-1])\n",
    "\n",
    "df['bike_name'] = df['bike_name'].apply(remove_first_and_last_word)"
   ]
  },
  {
   "cell_type": "code",
   "execution_count": 12,
   "metadata": {
    "execution": {
     "iopub.execute_input": "2025-05-21T14:38:36.466325Z",
     "iopub.status.busy": "2025-05-21T14:38:36.465900Z",
     "iopub.status.idle": "2025-05-21T14:38:36.483383Z",
     "shell.execute_reply": "2025-05-21T14:38:36.482335Z",
     "shell.execute_reply.started": "2025-05-21T14:38:36.466263Z"
    },
    "trusted": true
   },
   "outputs": [
    {
     "data": {
      "text/html": [
       "<div>\n",
       "<style scoped>\n",
       "    .dataframe tbody tr th:only-of-type {\n",
       "        vertical-align: middle;\n",
       "    }\n",
       "\n",
       "    .dataframe tbody tr th {\n",
       "        vertical-align: top;\n",
       "    }\n",
       "\n",
       "    .dataframe thead th {\n",
       "        text-align: right;\n",
       "    }\n",
       "</style>\n",
       "<table border=\"1\" class=\"dataframe\">\n",
       "  <thead>\n",
       "    <tr style=\"text-align: right;\">\n",
       "      <th></th>\n",
       "      <th>bike_name</th>\n",
       "      <th>price</th>\n",
       "      <th>city</th>\n",
       "      <th>kms_driven</th>\n",
       "      <th>owner</th>\n",
       "      <th>age</th>\n",
       "      <th>power</th>\n",
       "      <th>brand</th>\n",
       "    </tr>\n",
       "  </thead>\n",
       "  <tbody>\n",
       "    <tr>\n",
       "      <th>16594</th>\n",
       "      <td>Slingshot Plus</td>\n",
       "      <td>32000.0</td>\n",
       "      <td>Lucknow</td>\n",
       "      <td>22697.0</td>\n",
       "      <td>First Owner</td>\n",
       "      <td>7.0</td>\n",
       "      <td>125.0</td>\n",
       "      <td>Suzuki</td>\n",
       "    </tr>\n",
       "    <tr>\n",
       "      <th>16365</th>\n",
       "      <td>FZ</td>\n",
       "      <td>45000.0</td>\n",
       "      <td>Chennai</td>\n",
       "      <td>18742.0</td>\n",
       "      <td>First Owner</td>\n",
       "      <td>6.0</td>\n",
       "      <td>150.0</td>\n",
       "      <td>Yamaha</td>\n",
       "    </tr>\n",
       "    <tr>\n",
       "      <th>17629</th>\n",
       "      <td>Enfield Classic</td>\n",
       "      <td>95500.0</td>\n",
       "      <td>Delhi</td>\n",
       "      <td>18000.0</td>\n",
       "      <td>First Owner</td>\n",
       "      <td>8.0</td>\n",
       "      <td>350.0</td>\n",
       "      <td>Royal Enfield</td>\n",
       "    </tr>\n",
       "    <tr>\n",
       "      <th>22656</th>\n",
       "      <td>YZF-R15 2.0</td>\n",
       "      <td>55000.0</td>\n",
       "      <td>Rupnagar</td>\n",
       "      <td>27000.0</td>\n",
       "      <td>First Owner</td>\n",
       "      <td>9.0</td>\n",
       "      <td>150.0</td>\n",
       "      <td>Yamaha</td>\n",
       "    </tr>\n",
       "    <tr>\n",
       "      <th>24956</th>\n",
       "      <td>CBZ Xtreme</td>\n",
       "      <td>11900.0</td>\n",
       "      <td>Noida</td>\n",
       "      <td>34968.0</td>\n",
       "      <td>First Owner</td>\n",
       "      <td>14.0</td>\n",
       "      <td>150.0</td>\n",
       "      <td>Hero</td>\n",
       "    </tr>\n",
       "  </tbody>\n",
       "</table>\n",
       "</div>"
      ],
      "text/plain": [
       "             bike_name    price      city  kms_driven        owner   age  \\\n",
       "16594   Slingshot Plus  32000.0   Lucknow     22697.0  First Owner   7.0   \n",
       "16365               FZ  45000.0   Chennai     18742.0  First Owner   6.0   \n",
       "17629  Enfield Classic  95500.0     Delhi     18000.0  First Owner   8.0   \n",
       "22656      YZF-R15 2.0  55000.0  Rupnagar     27000.0  First Owner   9.0   \n",
       "24956       CBZ Xtreme  11900.0     Noida     34968.0  First Owner  14.0   \n",
       "\n",
       "       power          brand  \n",
       "16594  125.0         Suzuki  \n",
       "16365  150.0         Yamaha  \n",
       "17629  350.0  Royal Enfield  \n",
       "22656  150.0         Yamaha  \n",
       "24956  150.0           Hero  "
      ]
     },
     "execution_count": 12,
     "metadata": {},
     "output_type": "execute_result"
    }
   ],
   "source": [
    "df.sample(5)"
   ]
  },
  {
   "cell_type": "code",
   "execution_count": 13,
   "metadata": {
    "execution": {
     "iopub.execute_input": "2025-05-21T14:38:36.485079Z",
     "iopub.status.busy": "2025-05-21T14:38:36.484724Z",
     "iopub.status.idle": "2025-05-21T14:38:36.532107Z",
     "shell.execute_reply": "2025-05-21T14:38:36.531063Z",
     "shell.execute_reply.started": "2025-05-21T14:38:36.485051Z"
    },
    "trusted": true
   },
   "outputs": [
    {
     "data": {
      "text/plain": [
       "city\n",
       "Delhi            7318\n",
       "Bangalore        2723\n",
       "Mumbai           2591\n",
       "Hyderabad        2160\n",
       "Pune             1724\n",
       "                 ... \n",
       "Surendranagar       1\n",
       "Khandela            1\n",
       "Mohammadabad        1\n",
       "Shimla              1\n",
       "Sidhi               1\n",
       "Name: count, Length: 443, dtype: int64"
      ]
     },
     "execution_count": 13,
     "metadata": {},
     "output_type": "execute_result"
    }
   ],
   "source": [
    "df['city'].value_counts()"
   ]
  },
  {
   "cell_type": "code",
   "execution_count": 14,
   "metadata": {
    "execution": {
     "iopub.execute_input": "2025-05-21T14:38:36.536008Z",
     "iopub.status.busy": "2025-05-21T14:38:36.535487Z",
     "iopub.status.idle": "2025-05-21T14:38:36.577739Z",
     "shell.execute_reply": "2025-05-21T14:38:36.573426Z",
     "shell.execute_reply.started": "2025-05-21T14:38:36.535962Z"
    },
    "trusted": true
   },
   "outputs": [
    {
     "data": {
      "text/html": [
       "<div>\n",
       "<style scoped>\n",
       "    .dataframe tbody tr th:only-of-type {\n",
       "        vertical-align: middle;\n",
       "    }\n",
       "\n",
       "    .dataframe tbody tr th {\n",
       "        vertical-align: top;\n",
       "    }\n",
       "\n",
       "    .dataframe thead th {\n",
       "        text-align: right;\n",
       "    }\n",
       "</style>\n",
       "<table border=\"1\" class=\"dataframe\">\n",
       "  <thead>\n",
       "    <tr style=\"text-align: right;\">\n",
       "      <th></th>\n",
       "      <th>city</th>\n",
       "      <th>state</th>\n",
       "    </tr>\n",
       "  </thead>\n",
       "  <tbody>\n",
       "    <tr>\n",
       "      <th>630</th>\n",
       "      <td>Patti</td>\n",
       "      <td>Punjab</td>\n",
       "    </tr>\n",
       "    <tr>\n",
       "      <th>584</th>\n",
       "      <td>Palitana</td>\n",
       "      <td>Gujarat</td>\n",
       "    </tr>\n",
       "    <tr>\n",
       "      <th>1171</th>\n",
       "      <td>Virudhunagar</td>\n",
       "      <td>Tamil Nadu</td>\n",
       "    </tr>\n",
       "    <tr>\n",
       "      <th>1008</th>\n",
       "      <td>Sundargarh</td>\n",
       "      <td>Odisha</td>\n",
       "    </tr>\n",
       "    <tr>\n",
       "      <th>341</th>\n",
       "      <td>Manendragarh</td>\n",
       "      <td>Chhattisgarh</td>\n",
       "    </tr>\n",
       "  </tbody>\n",
       "</table>\n",
       "</div>"
      ],
      "text/plain": [
       "              city         state\n",
       "630          Patti        Punjab\n",
       "584       Palitana       Gujarat\n",
       "1171  Virudhunagar    Tamil Nadu\n",
       "1008    Sundargarh        Odisha\n",
       "341   Manendragarh  Chhattisgarh"
      ]
     },
     "execution_count": 14,
     "metadata": {},
     "output_type": "execute_result"
    }
   ],
   "source": [
    "state = pd.read_csv(r'C:\\Users\\user\\OneDrive\\wasimansari-iitm\\Used-bike-price-predictor\\indian-city-to-state-mapping.csv')\n",
    "state.sample(5)"
   ]
  },
  {
   "cell_type": "code",
   "execution_count": 15,
   "metadata": {
    "execution": {
     "iopub.execute_input": "2025-05-21T14:38:36.582619Z",
     "iopub.status.busy": "2025-05-21T14:38:36.578912Z",
     "iopub.status.idle": "2025-05-21T14:38:36.613799Z",
     "shell.execute_reply": "2025-05-21T14:38:36.612683Z",
     "shell.execute_reply.started": "2025-05-21T14:38:36.582570Z"
    },
    "trusted": true
   },
   "outputs": [],
   "source": [
    "# Ensure city names are stripped and lowercase for better matching (optional but recommended)\n",
    "# df['city'] = df['city'].str.strip().str.lower()\n",
    "# state['city'] = state['city'].str.strip().str.lower()\n",
    "\n",
    "# Create a dictionary from the state DataFrame\n",
    "city_to_state = dict(zip(state['city'], state['state']))\n",
    "\n",
    "# Map the state values into df\n",
    "df['state'] = df['city'].map(city_to_state)"
   ]
  },
  {
   "cell_type": "code",
   "execution_count": 16,
   "metadata": {
    "execution": {
     "iopub.execute_input": "2025-05-21T14:38:36.615683Z",
     "iopub.status.busy": "2025-05-21T14:38:36.615272Z",
     "iopub.status.idle": "2025-05-21T14:38:36.638636Z",
     "shell.execute_reply": "2025-05-21T14:38:36.637703Z",
     "shell.execute_reply.started": "2025-05-21T14:38:36.615650Z"
    },
    "trusted": true
   },
   "outputs": [
    {
     "data": {
      "text/html": [
       "<div>\n",
       "<style scoped>\n",
       "    .dataframe tbody tr th:only-of-type {\n",
       "        vertical-align: middle;\n",
       "    }\n",
       "\n",
       "    .dataframe tbody tr th {\n",
       "        vertical-align: top;\n",
       "    }\n",
       "\n",
       "    .dataframe thead th {\n",
       "        text-align: right;\n",
       "    }\n",
       "</style>\n",
       "<table border=\"1\" class=\"dataframe\">\n",
       "  <thead>\n",
       "    <tr style=\"text-align: right;\">\n",
       "      <th></th>\n",
       "      <th>bike_name</th>\n",
       "      <th>price</th>\n",
       "      <th>city</th>\n",
       "      <th>kms_driven</th>\n",
       "      <th>owner</th>\n",
       "      <th>age</th>\n",
       "      <th>power</th>\n",
       "      <th>brand</th>\n",
       "      <th>state</th>\n",
       "    </tr>\n",
       "  </thead>\n",
       "  <tbody>\n",
       "    <tr>\n",
       "      <th>27583</th>\n",
       "      <td>Pulsar</td>\n",
       "      <td>25000.0</td>\n",
       "      <td>Delhi</td>\n",
       "      <td>32588.0</td>\n",
       "      <td>First Owner</td>\n",
       "      <td>9.0</td>\n",
       "      <td>150.0</td>\n",
       "      <td>Bajaj</td>\n",
       "      <td>Delhi</td>\n",
       "    </tr>\n",
       "    <tr>\n",
       "      <th>30307</th>\n",
       "      <td>Apache RTR</td>\n",
       "      <td>30000.0</td>\n",
       "      <td>Karnal</td>\n",
       "      <td>6639.0</td>\n",
       "      <td>First Owner</td>\n",
       "      <td>9.0</td>\n",
       "      <td>180.0</td>\n",
       "      <td>TVS</td>\n",
       "      <td>Haryana</td>\n",
       "    </tr>\n",
       "    <tr>\n",
       "      <th>7218</th>\n",
       "      <td>FZ S V 2.0</td>\n",
       "      <td>65000.0</td>\n",
       "      <td>Jaipur</td>\n",
       "      <td>14391.0</td>\n",
       "      <td>Second Owner</td>\n",
       "      <td>4.0</td>\n",
       "      <td>150.0</td>\n",
       "      <td>Yamaha</td>\n",
       "      <td>Rajasthan</td>\n",
       "    </tr>\n",
       "    <tr>\n",
       "      <th>14530</th>\n",
       "      <td>Pulsar</td>\n",
       "      <td>25000.0</td>\n",
       "      <td>Delhi</td>\n",
       "      <td>32588.0</td>\n",
       "      <td>First Owner</td>\n",
       "      <td>9.0</td>\n",
       "      <td>150.0</td>\n",
       "      <td>Bajaj</td>\n",
       "      <td>Delhi</td>\n",
       "    </tr>\n",
       "    <tr>\n",
       "      <th>6534</th>\n",
       "      <td>CBR 150R</td>\n",
       "      <td>55000.0</td>\n",
       "      <td>Rohtak</td>\n",
       "      <td>30000.0</td>\n",
       "      <td>First Owner</td>\n",
       "      <td>9.0</td>\n",
       "      <td>150.0</td>\n",
       "      <td>Honda</td>\n",
       "      <td>Haryana</td>\n",
       "    </tr>\n",
       "  </tbody>\n",
       "</table>\n",
       "</div>"
      ],
      "text/plain": [
       "        bike_name    price    city  kms_driven         owner  age  power  \\\n",
       "27583      Pulsar  25000.0   Delhi     32588.0   First Owner  9.0  150.0   \n",
       "30307  Apache RTR  30000.0  Karnal      6639.0   First Owner  9.0  180.0   \n",
       "7218   FZ S V 2.0  65000.0  Jaipur     14391.0  Second Owner  4.0  150.0   \n",
       "14530      Pulsar  25000.0   Delhi     32588.0   First Owner  9.0  150.0   \n",
       "6534     CBR 150R  55000.0  Rohtak     30000.0   First Owner  9.0  150.0   \n",
       "\n",
       "        brand      state  \n",
       "27583   Bajaj      Delhi  \n",
       "30307     TVS    Haryana  \n",
       "7218   Yamaha  Rajasthan  \n",
       "14530   Bajaj      Delhi  \n",
       "6534    Honda    Haryana  "
      ]
     },
     "execution_count": 16,
     "metadata": {},
     "output_type": "execute_result"
    }
   ],
   "source": [
    "df.sample(5)"
   ]
  },
  {
   "cell_type": "code",
   "execution_count": 17,
   "metadata": {
    "execution": {
     "iopub.execute_input": "2025-05-21T14:38:36.640534Z",
     "iopub.status.busy": "2025-05-21T14:38:36.640150Z",
     "iopub.status.idle": "2025-05-21T14:38:36.651211Z",
     "shell.execute_reply": "2025-05-21T14:38:36.650323Z",
     "shell.execute_reply.started": "2025-05-21T14:38:36.640494Z"
    },
    "trusted": true
   },
   "outputs": [
    {
     "data": {
      "text/plain": [
       "8725"
      ]
     },
     "execution_count": 17,
     "metadata": {},
     "output_type": "execute_result"
    }
   ],
   "source": [
    "df['state'].isnull().sum()"
   ]
  },
  {
   "cell_type": "code",
   "execution_count": 18,
   "metadata": {
    "execution": {
     "iopub.execute_input": "2025-05-21T14:38:36.652680Z",
     "iopub.status.busy": "2025-05-21T14:38:36.652276Z",
     "iopub.status.idle": "2025-05-21T14:38:36.673367Z",
     "shell.execute_reply": "2025-05-21T14:38:36.672275Z",
     "shell.execute_reply.started": "2025-05-21T14:38:36.652648Z"
    },
    "trusted": true
   },
   "outputs": [
    {
     "name": "stdout",
     "output_type": "stream",
     "text": [
      "['24 Pargana', 'Abohar', 'Alibag', 'Alipore', 'Aluva', 'Ambala', 'Amraoti', 'Anekal', 'Aquem', 'Arkalgud', 'Badarpur', 'Badaun', 'Bagalkot', 'Baghpat', 'Bahadurpur', 'Bally', 'Baloda', 'Balrampur', 'Bangalore', 'Banka', 'Banki', 'Barabanki', 'Baran', 'Barasat', 'Bardhaman', 'Bareilly', 'Baripara', 'Basti', 'Belgaum', 'Bellary', 'Berhampore', 'Berhampur', 'Betul', 'Bharatpur', 'Bhatinda', 'Bhawani Mandi', 'Bhiwadi', 'Bhubaneshwar', 'Bidar', 'Bihar Shariff', 'Bijapur', 'Bijnor', 'Bokaro', 'Bolpur', 'Budhlada', 'Bulandshahr', 'Bundi', 'Burdwan', 'Calicut', 'Cannanore (kannur)', 'Chakan', 'Chaksu', 'Challakere', 'Chandrapur', 'Chatrapur', 'Chenani', 'Chhatarpur', 'Chhindwara', 'Chikamaglur', 'Chikkaballapur', 'Chinchwad', 'Chinsurah', 'Chitradurga', 'Churu', 'Dadra & Nagar Haveli', 'Dadri', 'Dakshina Kannada', 'Deolali', 'Deoria', 'Dharamasala', 'Dhariawad', 'Dharmapuri', 'Dharwad', 'Dharwar', 'Dongargaon', 'Dungarpur', 'Durgapur', 'Dwarka', 'Ernakulam', 'Falakata', 'Farrukhabad', 'Farukhabad', 'Ferozepur', 'Gadarpur', 'Gadchiroli', 'Ganaur', 'Gandhidham', 'Gandhinagar', 'Gangaghat', 'Gangaikondan', 'Ganganagar', 'Gangtok', 'Gautam Buddha Nagar', 'Ghaziabad', 'Ghazipur', 'Goa-panaji', 'Godavari', 'Godhara', 'Gondia', 'Gorakhpur', 'Goregaon', 'Hamirpur', 'Hamirpur(hp)', 'Hanumangarh', 'Haridwar', 'Herbertpur', 'Hissar', 'Honavar', 'Hooghly', 'Hospet', 'Hosur', 'Howrah', 'Hubli', 'Idukki', 'Indi', 'Jaisalmer', 'Jajpur', 'Jalaun', 'Jalgaon', 'Jamtara', 'Jaunpur', 'Jhajjar', 'Jhalawar', 'Jhunjhunu', 'Jobner', 'Junagadh', 'Kachchh', 'Kalyan', 'Kanchipuram', 'Kanpur Nagar', 'Kanyakumari', 'Karim Nagar', 'Kartarpur', 'Kasargode', 'Kasba', 'Katni', 'Kendua', 'Khalilabad', 'Khandela', 'Khandwa', 'Kheda', 'Khedbrahma', 'Kolhapur', 'Koppal', 'Kota', 'Kotdwar', 'Krishna', 'Krishnagar', 'Kullu', 'Kurukshetra', 'Lansdowne', 'Lonavala', 'Manali', 'Mangalore', 'Marandahalli', 'Mehsana', 'Mettur', 'Mohammadabad', 'Morbi', 'Mubarakpur', 'Mughalsarai', 'Mumbai', 'Murad Nagar', 'Muzaffarnagar', 'Mysore', 'Nalagarh', 'Nanded', 'Naraingarh', 'Nayagarh', 'Nazira', 'Palamu', 'Parola', 'Poonamallee', 'Raigarh(mh)', 'Raiwala', 'Rajouri', 'Ramanagar', 'Ranga Reddy', 'Rangpo', 'Ranip', 'Ranoli', 'Sant Kabir Nagar', 'Secunderabad', 'Seppa', 'Shimoga', 'Sholapur', 'Silvasa', 'Singhbhum', 'Sonepat', 'Sri Ganganagar', 'Surendranagar', 'Swaimadhopur', 'Tiruvallur', 'Tiruverkadu', 'Trivandrum', 'Uluberia', 'Uppidamangalam', 'Vandalur', 'Vasai', 'Vastral', 'Virar', 'Yamuna Nagar']\n"
     ]
    }
   ],
   "source": [
    "unmatched_cities = df[df['state'].isnull()]['city'].unique()\n",
    "print(sorted(unmatched_cities))  # optional: sorted list"
   ]
  },
  {
   "cell_type": "code",
   "execution_count": 19,
   "metadata": {
    "execution": {
     "iopub.execute_input": "2025-05-21T14:38:36.674981Z",
     "iopub.status.busy": "2025-05-21T14:38:36.674675Z",
     "iopub.status.idle": "2025-05-21T14:38:36.695484Z",
     "shell.execute_reply": "2025-05-21T14:38:36.694109Z",
     "shell.execute_reply.started": "2025-05-21T14:38:36.674954Z"
    },
    "trusted": true
   },
   "outputs": [],
   "source": [
    "state_map = {\n",
    "    '24 pargana': 'West Bengal',\n",
    "    'abohar': 'Punjab',\n",
    "    'alibag': 'Maharashtra',\n",
    "    'alipore': 'West Bengal',\n",
    "    'aluva': 'Kerala',\n",
    "    'ambala': 'Haryana',\n",
    "    'amraoti': 'Maharashtra',\n",
    "    'anekal': 'Karnataka',\n",
    "    'aquem': 'Goa',\n",
    "    'arkalgud': 'Karnataka',\n",
    "    'badarpur': 'Delhi',\n",
    "    'badaun': 'Uttar Pradesh',\n",
    "    'bagalkot': 'Karnataka',\n",
    "    'baghpat': 'Uttar Pradesh',\n",
    "    'bahadurpur': 'Punjab',\n",
    "    'bally': 'West Bengal',\n",
    "    'baloda': 'Chhattisgarh',\n",
    "    'balrampur': 'Uttar Pradesh',\n",
    "    'bangalore': 'Karnataka',\n",
    "    'banka': 'Bihar',\n",
    "    'banki': 'Odisha',\n",
    "    'barabanki': 'Uttar Pradesh',\n",
    "    'baran': 'Rajasthan',\n",
    "    'barasat': 'West Bengal',\n",
    "    'bardhaman': 'West Bengal',\n",
    "    'bareilly': 'Uttar Pradesh',\n",
    "    'baripara': 'West Bengal',\n",
    "    'basti': 'Uttar Pradesh',\n",
    "    'belgaum': 'Karnataka',\n",
    "    'bellary': 'Karnataka',\n",
    "    'berhampore': 'West Bengal',\n",
    "    'berhampur': 'Odisha',\n",
    "    'betul': 'Madhya Pradesh',\n",
    "    'bharatpur': 'Rajasthan',\n",
    "    'bhatinda': 'Punjab',\n",
    "    'bhawani mandi': 'Rajasthan',\n",
    "    'bhiwadi': 'Rajasthan',\n",
    "    'bhubaneshwar': 'Odisha',\n",
    "    'bidar': 'Karnataka',\n",
    "    'bihar shariff': 'Bihar',\n",
    "    'bijapur': 'Karnataka',\n",
    "    'bijnor': 'Uttar Pradesh',\n",
    "    'bokaro': 'Jharkhand',\n",
    "    'bolpur': 'West Bengal',\n",
    "    'budhlada': 'Punjab',\n",
    "    'bulandshahr': 'Uttar Pradesh',\n",
    "    'bundi': 'Rajasthan',\n",
    "    'burdwan': 'West Bengal',\n",
    "    'calicut': 'Kerala',\n",
    "    'cannanore (kannur)': 'Kerala',\n",
    "    'chakan': 'Maharashtra',\n",
    "    'chaksu': 'Rajasthan',\n",
    "    'challakere': 'Karnataka',\n",
    "    'chandrapur': 'Maharashtra',\n",
    "    'chatrapur': 'Odisha',\n",
    "    'chenani': 'Jammu and Kashmir',\n",
    "    'chhatarpur': 'Madhya Pradesh',\n",
    "    'chhindwara': 'Madhya Pradesh',\n",
    "    'chikamaglur': 'Karnataka',\n",
    "    'chikkaballapur': 'Karnataka',\n",
    "    'chinchwad': 'Maharashtra',\n",
    "    'chinsurah': 'West Bengal',\n",
    "    'chitradurga': 'Karnataka',\n",
    "    'churu': 'Rajasthan',\n",
    "    'dadra & nagar haveli': 'Dadra and Nagar Haveli and Daman and Diu',\n",
    "    'dadri': 'Uttar Pradesh',\n",
    "    'dakshina kannada': 'Karnataka',\n",
    "    'deolali': 'Maharashtra',\n",
    "    'deoria': 'Uttar Pradesh',\n",
    "    'dharamasala': 'Himachal Pradesh',\n",
    "    'dhariawad': 'Rajasthan',\n",
    "    'dharmapuri': 'Tamil Nadu',\n",
    "    'dharwad': 'Karnataka',\n",
    "    'dharwar': 'Karnataka',\n",
    "    'dongargaon': 'Chhattisgarh',\n",
    "    'dungarpur': 'Rajasthan',\n",
    "    'durgapur': 'West Bengal',\n",
    "    'dwarka': 'Delhi',\n",
    "    'ernakulam': 'Kerala',\n",
    "    'falakata': 'West Bengal',\n",
    "    'farrukhabad': 'Uttar Pradesh',\n",
    "    'farukhabad': 'Uttar Pradesh',\n",
    "    'ferozepur': 'Punjab',\n",
    "    'gadarpur': 'Uttarakhand',\n",
    "    'gadchiroli': 'Maharashtra',\n",
    "    'ganaur': 'Haryana',\n",
    "    'gandhidham': 'Gujarat',\n",
    "    'gandhinagar': 'Gujarat',\n",
    "    'gangaghat': 'Uttar Pradesh',\n",
    "    'gangaikondan': 'Tamil Nadu',\n",
    "    'ganganagar': 'Rajasthan',\n",
    "    'gangtok': 'Sikkim',\n",
    "    'gautam buddha nagar': 'Uttar Pradesh',\n",
    "    'ghaziabad': 'Uttar Pradesh',\n",
    "    'ghazipur': 'Uttar Pradesh',\n",
    "    'goa-panaji': 'Goa',\n",
    "    'godavari': 'Andhra Pradesh',\n",
    "    'godhara': 'Gujarat',\n",
    "    'gondia': 'Maharashtra',\n",
    "    'gorakhpur': 'Uttar Pradesh',\n",
    "    'goregaon': 'Maharashtra',\n",
    "    'hamirpur': 'Uttar Pradesh',\n",
    "    'hamirpur(hp)': 'Himachal Pradesh',\n",
    "    'hanumangarh': 'Rajasthan',\n",
    "    'haridwar': 'Uttarakhand',\n",
    "    'herbertpur': 'Uttarakhand',\n",
    "    'hissar': 'Haryana',\n",
    "    'honavar': 'Karnataka',\n",
    "    'hooghly': 'West Bengal',\n",
    "    'hospet': 'Karnataka',\n",
    "    'hosur': 'Tamil Nadu',\n",
    "    'howrah': 'West Bengal',\n",
    "    'hubli': 'Karnataka',\n",
    "    'idukki': 'Kerala',\n",
    "    'indi': 'Karnataka',\n",
    "    'jaisalmer': 'Rajasthan',\n",
    "    'jajpur': 'Odisha',\n",
    "    'jalaun': 'Uttar Pradesh',\n",
    "    'jalgaon': 'Maharashtra',\n",
    "    'jamtara': 'Jharkhand',\n",
    "    'jaunpur': 'Uttar Pradesh',\n",
    "    'jhajjar': 'Haryana',\n",
    "    'jhalawar': 'Rajasthan',\n",
    "    'jhunjhunu': 'Rajasthan',\n",
    "    'jobner': 'Rajasthan',\n",
    "    'junagadh': 'Gujarat',\n",
    "    'kachchh': 'Gujarat',\n",
    "    'kalyan': 'Maharashtra',\n",
    "    'kanchipuram': 'Tamil Nadu',\n",
    "    'kanpur nagar': 'Uttar Pradesh',\n",
    "    'kanyakumari': 'Tamil Nadu',\n",
    "    'karim nagar': 'Telangana',\n",
    "    'kartarpur': 'Punjab',\n",
    "    'kasargode': 'Kerala',\n",
    "    'kasba': 'Bihar',\n",
    "    'katni': 'Madhya Pradesh',\n",
    "    'kendua': 'West Bengal',\n",
    "    'khalilabad': 'Uttar Pradesh',\n",
    "    'khandela': 'Rajasthan',\n",
    "    'khandwa': 'Madhya Pradesh',\n",
    "    'kheda': 'Gujarat',\n",
    "    'khedbrahma': 'Gujarat',\n",
    "    'kolhapur': 'Maharashtra',\n",
    "    'koppal': 'Karnataka',\n",
    "    'kota': 'Rajasthan',\n",
    "    'kotdwar': 'Uttarakhand',\n",
    "    'krishna': 'Andhra Pradesh',\n",
    "    'krishnagar': 'West Bengal',\n",
    "    'kullu': 'Himachal Pradesh',\n",
    "    'kurukshetra': 'Haryana',\n",
    "    'lansdowne': 'Uttarakhand',\n",
    "    'lonavala': 'Maharashtra',\n",
    "    'manali': 'Himachal Pradesh',\n",
    "    'mangalore': 'Karnataka',\n",
    "    'marandahalli': 'Tamil Nadu',\n",
    "    'mehsana': 'Gujarat',\n",
    "    'mettur': 'Tamil Nadu',\n",
    "    'mohammadabad': 'Uttar Pradesh',\n",
    "    'morbi': 'Gujarat',\n",
    "    'mubarakpur': 'Uttar Pradesh',\n",
    "    'mughalsarai': 'Uttar Pradesh',\n",
    "    'mumbai': 'Maharashtra',\n",
    "    'murad nagar': 'Uttar Pradesh',\n",
    "    'muzaffarnagar': 'Uttar Pradesh',\n",
    "    'mysore': 'Karnataka',\n",
    "    'nalagarh': 'Himachal Pradesh',\n",
    "    'nanded': 'Maharashtra',\n",
    "    'naraingarh': 'Haryana',\n",
    "    'nayagarh': 'Odisha',\n",
    "    'nazira': 'Assam',\n",
    "    'palamu': 'Jharkhand',\n",
    "    'parola': 'Maharashtra',\n",
    "    'poonamallee': 'Tamil Nadu',\n",
    "    'raigarh(mh)': 'Maharashtra',\n",
    "    'raiwala': 'Uttarakhand',\n",
    "    'rajouri': 'Jammu and Kashmir',\n",
    "    'ramanagar': 'Karnataka',\n",
    "    'ranga reddy': 'Telangana',\n",
    "    'rangpo': 'Sikkim',\n",
    "    'ranip': 'Gujarat',\n",
    "    'ranoli': 'Gujarat',\n",
    "    'sant kabir nagar': 'Uttar Pradesh',\n",
    "    'secunderabad': 'Telangana',\n",
    "    'seppa': 'Arunachal Pradesh',\n",
    "    'shimoga': 'Karnataka',\n",
    "    'sholapur': 'Maharashtra',\n",
    "    'silvasa': 'Dadra and Nagar Haveli and Daman and Diu',\n",
    "    'singhbhum': 'Jharkhand',\n",
    "    'sonepat': 'Haryana',\n",
    "    'sri ganganagar': 'Rajasthan',\n",
    "    'surendranagar': 'Gujarat',\n",
    "    'swaimadhopur': 'Rajasthan',\n",
    "    'tiruvallur': 'Tamil Nadu',\n",
    "    'tiruverkadu': 'Tamil Nadu',\n",
    "    'trivandrum': 'Kerala',\n",
    "    'uluberia': 'West Bengal',\n",
    "    'uppidamangalam': 'Tamil Nadu',\n",
    "    'vandalur': 'Tamil Nadu',\n",
    "    'vasai': 'Maharashtra',\n",
    "    'vastral': 'Gujarat',\n",
    "    'virar': 'Maharashtra',\n",
    "    'yamuna nagar': 'Haryana'\n",
    "}\n"
   ]
  },
  {
   "cell_type": "code",
   "execution_count": 20,
   "metadata": {
    "execution": {
     "iopub.execute_input": "2025-05-21T14:38:36.697453Z",
     "iopub.status.busy": "2025-05-21T14:38:36.697027Z",
     "iopub.status.idle": "2025-05-21T14:38:36.758209Z",
     "shell.execute_reply": "2025-05-21T14:38:36.757188Z",
     "shell.execute_reply.started": "2025-05-21T14:38:36.697417Z"
    },
    "trusted": true
   },
   "outputs": [],
   "source": [
    "df['city_lower'] = df['city'].str.strip().str.lower()\n",
    "\n",
    "# Fill in missing states from the manual map\n",
    "df['state'] = df['state'].fillna(df['city_lower'].map(state_map))\n",
    "\n",
    "# Optional: drop helper column\n",
    "df.drop(columns=['city_lower'], inplace=True)"
   ]
  },
  {
   "cell_type": "code",
   "execution_count": 21,
   "metadata": {
    "execution": {
     "iopub.execute_input": "2025-05-21T14:38:36.759790Z",
     "iopub.status.busy": "2025-05-21T14:38:36.759474Z",
     "iopub.status.idle": "2025-05-21T14:38:36.769211Z",
     "shell.execute_reply": "2025-05-21T14:38:36.768103Z",
     "shell.execute_reply.started": "2025-05-21T14:38:36.759764Z"
    },
    "trusted": true
   },
   "outputs": [
    {
     "data": {
      "text/plain": [
       "0"
      ]
     },
     "execution_count": 21,
     "metadata": {},
     "output_type": "execute_result"
    }
   ],
   "source": [
    "df['state'].isnull().sum()"
   ]
  },
  {
   "cell_type": "code",
   "execution_count": 22,
   "metadata": {
    "execution": {
     "iopub.execute_input": "2025-05-21T14:38:36.770671Z",
     "iopub.status.busy": "2025-05-21T14:38:36.770233Z",
     "iopub.status.idle": "2025-05-21T14:38:36.798005Z",
     "shell.execute_reply": "2025-05-21T14:38:36.797103Z",
     "shell.execute_reply.started": "2025-05-21T14:38:36.770632Z"
    },
    "trusted": true
   },
   "outputs": [
    {
     "data": {
      "text/html": [
       "<div>\n",
       "<style scoped>\n",
       "    .dataframe tbody tr th:only-of-type {\n",
       "        vertical-align: middle;\n",
       "    }\n",
       "\n",
       "    .dataframe tbody tr th {\n",
       "        vertical-align: top;\n",
       "    }\n",
       "\n",
       "    .dataframe thead th {\n",
       "        text-align: right;\n",
       "    }\n",
       "</style>\n",
       "<table border=\"1\" class=\"dataframe\">\n",
       "  <thead>\n",
       "    <tr style=\"text-align: right;\">\n",
       "      <th></th>\n",
       "      <th>bike_name</th>\n",
       "      <th>price</th>\n",
       "      <th>city</th>\n",
       "      <th>kms_driven</th>\n",
       "      <th>owner</th>\n",
       "      <th>age</th>\n",
       "      <th>power</th>\n",
       "      <th>brand</th>\n",
       "      <th>state</th>\n",
       "    </tr>\n",
       "  </thead>\n",
       "  <tbody>\n",
       "    <tr>\n",
       "      <th>22948</th>\n",
       "      <td>Fazer 25</td>\n",
       "      <td>123000.0</td>\n",
       "      <td>Kadapa</td>\n",
       "      <td>14500.0</td>\n",
       "      <td>First Owner</td>\n",
       "      <td>4.0</td>\n",
       "      <td>250.0</td>\n",
       "      <td>Yamaha</td>\n",
       "      <td>Andhra Pradesh</td>\n",
       "    </tr>\n",
       "    <tr>\n",
       "      <th>18814</th>\n",
       "      <td>Dominar 400</td>\n",
       "      <td>139000.0</td>\n",
       "      <td>Hyderabad</td>\n",
       "      <td>21300.0</td>\n",
       "      <td>First Owner</td>\n",
       "      <td>4.0</td>\n",
       "      <td>400.0</td>\n",
       "      <td>Bajaj</td>\n",
       "      <td>Telangana</td>\n",
       "    </tr>\n",
       "    <tr>\n",
       "      <th>17863</th>\n",
       "      <td>Avenger Street</td>\n",
       "      <td>60000.0</td>\n",
       "      <td>Delhi</td>\n",
       "      <td>20373.0</td>\n",
       "      <td>First Owner</td>\n",
       "      <td>6.0</td>\n",
       "      <td>220.0</td>\n",
       "      <td>Bajaj</td>\n",
       "      <td>Delhi</td>\n",
       "    </tr>\n",
       "    <tr>\n",
       "      <th>23172</th>\n",
       "      <td>Passion</td>\n",
       "      <td>18000.0</td>\n",
       "      <td>Hyderabad</td>\n",
       "      <td>3869.0</td>\n",
       "      <td>First Owner</td>\n",
       "      <td>16.0</td>\n",
       "      <td>100.0</td>\n",
       "      <td>Hero</td>\n",
       "      <td>Telangana</td>\n",
       "    </tr>\n",
       "    <tr>\n",
       "      <th>1692</th>\n",
       "      <td>FZ25 ABS</td>\n",
       "      <td>130000.0</td>\n",
       "      <td>Mumbai</td>\n",
       "      <td>1143.0</td>\n",
       "      <td>Second Owner</td>\n",
       "      <td>2.0</td>\n",
       "      <td>250.0</td>\n",
       "      <td>Yamaha</td>\n",
       "      <td>Maharashtra</td>\n",
       "    </tr>\n",
       "  </tbody>\n",
       "</table>\n",
       "</div>"
      ],
      "text/plain": [
       "            bike_name     price       city  kms_driven         owner   age  \\\n",
       "22948        Fazer 25  123000.0     Kadapa     14500.0   First Owner   4.0   \n",
       "18814     Dominar 400  139000.0  Hyderabad     21300.0   First Owner   4.0   \n",
       "17863  Avenger Street   60000.0      Delhi     20373.0   First Owner   6.0   \n",
       "23172         Passion   18000.0  Hyderabad      3869.0   First Owner  16.0   \n",
       "1692         FZ25 ABS  130000.0     Mumbai      1143.0  Second Owner   2.0   \n",
       "\n",
       "       power   brand           state  \n",
       "22948  250.0  Yamaha  Andhra Pradesh  \n",
       "18814  400.0   Bajaj       Telangana  \n",
       "17863  220.0   Bajaj           Delhi  \n",
       "23172  100.0    Hero       Telangana  \n",
       "1692   250.0  Yamaha     Maharashtra  "
      ]
     },
     "execution_count": 22,
     "metadata": {},
     "output_type": "execute_result"
    }
   ],
   "source": [
    "df.sample(5)"
   ]
  },
  {
   "cell_type": "code",
   "execution_count": 23,
   "metadata": {
    "execution": {
     "iopub.execute_input": "2025-05-21T14:38:36.799922Z",
     "iopub.status.busy": "2025-05-21T14:38:36.798994Z",
     "iopub.status.idle": "2025-05-21T14:38:36.837224Z",
     "shell.execute_reply": "2025-05-21T14:38:36.836181Z",
     "shell.execute_reply.started": "2025-05-21T14:38:36.799890Z"
    },
    "trusted": true
   },
   "outputs": [
    {
     "data": {
      "text/plain": [
       "bike_name      375\n",
       "price         1232\n",
       "city           443\n",
       "kms_driven    3722\n",
       "owner            4\n",
       "age             35\n",
       "power           53\n",
       "brand           23\n",
       "state           30\n",
       "dtype: int64"
      ]
     },
     "execution_count": 23,
     "metadata": {},
     "output_type": "execute_result"
    }
   ],
   "source": [
    "df.nunique()"
   ]
  },
  {
   "cell_type": "code",
   "execution_count": 24,
   "metadata": {
    "execution": {
     "iopub.execute_input": "2025-05-21T14:38:36.838633Z",
     "iopub.status.busy": "2025-05-21T14:38:36.838261Z",
     "iopub.status.idle": "2025-05-21T14:38:37.742750Z",
     "shell.execute_reply": "2025-05-21T14:38:37.741601Z",
     "shell.execute_reply.started": "2025-05-21T14:38:36.838597Z"
    },
    "trusted": true
   },
   "outputs": [],
   "source": [
    "from sklearn.model_selection import train_test_split\n",
    "\n",
    "# Count how many times each state appears\n",
    "state_counts = df['state'].value_counts()\n",
    "\n",
    "# Keep only states with at least 2 samples\n",
    "valid_states = state_counts[state_counts >= 2].index\n",
    "\n",
    "# Filter the dataframe\n",
    "df_filtered = df[df['state'].isin(valid_states)].copy()\n",
    "\n",
    "train, test = train_test_split(\n",
    "    df_filtered,\n",
    "    test_size=8000,\n",
    "    stratify=df_filtered['state'],\n",
    "    random_state=42\n",
    ")"
   ]
  },
  {
   "cell_type": "code",
   "execution_count": 25,
   "metadata": {
    "execution": {
     "iopub.execute_input": "2025-05-21T14:38:37.744559Z",
     "iopub.status.busy": "2025-05-21T14:38:37.744059Z",
     "iopub.status.idle": "2025-05-21T14:38:37.749807Z",
     "shell.execute_reply": "2025-05-21T14:38:37.748897Z",
     "shell.execute_reply.started": "2025-05-21T14:38:37.744533Z"
    },
    "trusted": true
   },
   "outputs": [
    {
     "name": "stdout",
     "output_type": "stream",
     "text": [
      "(24647, 9) (8000, 9)\n"
     ]
    }
   ],
   "source": [
    "print(train.shape, test.shape)"
   ]
  },
  {
   "cell_type": "code",
   "execution_count": 26,
   "metadata": {
    "execution": {
     "iopub.execute_input": "2025-05-21T14:38:37.755702Z",
     "iopub.status.busy": "2025-05-21T14:38:37.755193Z",
     "iopub.status.idle": "2025-05-21T14:38:37.772009Z",
     "shell.execute_reply": "2025-05-21T14:38:37.771039Z",
     "shell.execute_reply.started": "2025-05-21T14:38:37.755671Z"
    },
    "trusted": true
   },
   "outputs": [
    {
     "data": {
      "text/plain": [
       "Index(['bike_name', 'price', 'city', 'kms_driven', 'owner', 'age', 'power',\n",
       "       'brand', 'state'],\n",
       "      dtype='object')"
      ]
     },
     "execution_count": 26,
     "metadata": {},
     "output_type": "execute_result"
    }
   ],
   "source": [
    "train.columns"
   ]
  },
  {
   "cell_type": "code",
   "execution_count": 27,
   "metadata": {
    "execution": {
     "iopub.execute_input": "2025-05-21T14:38:37.773361Z",
     "iopub.status.busy": "2025-05-21T14:38:37.773045Z",
     "iopub.status.idle": "2025-05-21T14:38:37.802234Z",
     "shell.execute_reply": "2025-05-21T14:38:37.801121Z",
     "shell.execute_reply.started": "2025-05-21T14:38:37.773326Z"
    },
    "trusted": true
   },
   "outputs": [
    {
     "data": {
      "text/html": [
       "<div>\n",
       "<style scoped>\n",
       "    .dataframe tbody tr th:only-of-type {\n",
       "        vertical-align: middle;\n",
       "    }\n",
       "\n",
       "    .dataframe tbody tr th {\n",
       "        vertical-align: top;\n",
       "    }\n",
       "\n",
       "    .dataframe thead th {\n",
       "        text-align: right;\n",
       "    }\n",
       "</style>\n",
       "<table border=\"1\" class=\"dataframe\">\n",
       "  <thead>\n",
       "    <tr style=\"text-align: right;\">\n",
       "      <th></th>\n",
       "      <th>bike_name</th>\n",
       "      <th>price</th>\n",
       "      <th>city</th>\n",
       "      <th>kms_driven</th>\n",
       "      <th>owner</th>\n",
       "      <th>age</th>\n",
       "      <th>power</th>\n",
       "      <th>brand</th>\n",
       "      <th>state</th>\n",
       "    </tr>\n",
       "  </thead>\n",
       "  <tbody>\n",
       "    <tr>\n",
       "      <th>14367</th>\n",
       "      <td>Street 750</td>\n",
       "      <td>450000.0</td>\n",
       "      <td>Jodhpur</td>\n",
       "      <td>3430.0</td>\n",
       "      <td>First Owner</td>\n",
       "      <td>4.0</td>\n",
       "      <td>750.0</td>\n",
       "      <td>Harley-Davidson</td>\n",
       "      <td>Rajasthan</td>\n",
       "    </tr>\n",
       "    <tr>\n",
       "      <th>7825</th>\n",
       "      <td>Enfield Classic</td>\n",
       "      <td>107000.0</td>\n",
       "      <td>Delhi</td>\n",
       "      <td>16505.0</td>\n",
       "      <td>First Owner</td>\n",
       "      <td>5.0</td>\n",
       "      <td>350.0</td>\n",
       "      <td>Royal Enfield</td>\n",
       "      <td>Delhi</td>\n",
       "    </tr>\n",
       "    <tr>\n",
       "      <th>24347</th>\n",
       "      <td>SZ-RR</td>\n",
       "      <td>20000.0</td>\n",
       "      <td>Kanchipuram</td>\n",
       "      <td>52000.0</td>\n",
       "      <td>First Owner</td>\n",
       "      <td>10.0</td>\n",
       "      <td>150.0</td>\n",
       "      <td>Yamaha</td>\n",
       "      <td>Tamil Nadu</td>\n",
       "    </tr>\n",
       "  </tbody>\n",
       "</table>\n",
       "</div>"
      ],
      "text/plain": [
       "             bike_name     price         city  kms_driven        owner   age  \\\n",
       "14367       Street 750  450000.0      Jodhpur      3430.0  First Owner   4.0   \n",
       "7825   Enfield Classic  107000.0        Delhi     16505.0  First Owner   5.0   \n",
       "24347            SZ-RR   20000.0  Kanchipuram     52000.0  First Owner  10.0   \n",
       "\n",
       "       power            brand       state  \n",
       "14367  750.0  Harley-Davidson   Rajasthan  \n",
       "7825   350.0    Royal Enfield       Delhi  \n",
       "24347  150.0           Yamaha  Tamil Nadu  "
      ]
     },
     "execution_count": 27,
     "metadata": {},
     "output_type": "execute_result"
    }
   ],
   "source": [
    "test.sample(3)"
   ]
  },
  {
   "cell_type": "code",
   "execution_count": 28,
   "metadata": {
    "execution": {
     "iopub.execute_input": "2025-05-21T14:38:37.803777Z",
     "iopub.status.busy": "2025-05-21T14:38:37.803493Z",
     "iopub.status.idle": "2025-05-21T14:38:37.825257Z",
     "shell.execute_reply": "2025-05-21T14:38:37.823908Z",
     "shell.execute_reply.started": "2025-05-21T14:38:37.803756Z"
    },
    "trusted": true
   },
   "outputs": [
    {
     "name": "stdout",
     "output_type": "stream",
     "text": [
      "(24647, 8) (24647,) (8000, 8) (8000,)\n"
     ]
    }
   ],
   "source": [
    "y_train = train['price']\n",
    "X_train = train.drop(columns=['price'])\n",
    "y_test = test['price']\n",
    "X_test = test.drop(columns=['price'])\n",
    "\n",
    "print(X_train.shape, y_train.shape, X_test.shape, y_test.shape)"
   ]
  },
  {
   "cell_type": "code",
   "execution_count": 29,
   "metadata": {
    "execution": {
     "iopub.execute_input": "2025-05-21T14:38:37.826946Z",
     "iopub.status.busy": "2025-05-21T14:38:37.826572Z",
     "iopub.status.idle": "2025-05-21T14:38:37.844362Z",
     "shell.execute_reply": "2025-05-21T14:38:37.842986Z",
     "shell.execute_reply.started": "2025-05-21T14:38:37.826916Z"
    },
    "trusted": true
   },
   "outputs": [],
   "source": [
    "from sklearn import set_config\n",
    "set_config(transform_output='pandas')"
   ]
  },
  {
   "cell_type": "code",
   "execution_count": 30,
   "metadata": {
    "execution": {
     "iopub.execute_input": "2025-05-21T14:38:37.845983Z",
     "iopub.status.busy": "2025-05-21T14:38:37.845631Z",
     "iopub.status.idle": "2025-05-21T14:38:38.818271Z",
     "shell.execute_reply": "2025-05-21T14:38:38.816745Z",
     "shell.execute_reply.started": "2025-05-21T14:38:37.845955Z"
    },
    "trusted": true
   },
   "outputs": [],
   "source": [
    "from sklearn.pipeline import Pipeline\n",
    "from sklearn.compose import ColumnTransformer\n",
    "from sklearn.preprocessing import OneHotEncoder, StandardScaler\n",
    "from category_encoders import TargetEncoder\n",
    "\n",
    "# --- Columns ---\n",
    "target_enc_cols = ['bike_name', 'city']\n",
    "onehot_cols = ['state', 'owner', 'brand']\n",
    "numeric_cols = ['kms_driven', 'age', 'power']\n",
    "\n",
    "# --- Target Encoding + Scaling ---\n",
    "target_pipe = Pipeline(steps=[\n",
    "    ('target_enc', TargetEncoder()),\n",
    "    ('scale', StandardScaler())\n",
    "])\n",
    "\n",
    "# --- OneHot Encoding (no need to scale) ---\n",
    "onehot_pipe = OneHotEncoder(handle_unknown='ignore', sparse_output=False)\n",
    "\n",
    "# --- Scaling numeric columns directly ---\n",
    "numeric_pipe = StandardScaler()\n",
    "\n",
    "# --- ColumnTransformer combining all ---\n",
    "full_preprocessor = ColumnTransformer(transformers=[\n",
    "    ('target', target_pipe, target_enc_cols),\n",
    "    ('onehot', onehot_pipe, onehot_cols),\n",
    "    ('numeric', numeric_pipe, numeric_cols)\n",
    "])\n",
    "\n",
    "# Fit on training data\n",
    "full_preprocessor.fit(X_train, y_train)\n",
    "\n",
    "# Transform train/test or user input\n",
    "X_train_processed = full_preprocessor.transform(X_train)\n",
    "X_test_processed = full_preprocessor.transform(X_test)"
   ]
  },
  {
   "cell_type": "code",
   "execution_count": 31,
   "metadata": {
    "execution": {
     "iopub.execute_input": "2025-05-21T14:38:38.820156Z",
     "iopub.status.busy": "2025-05-21T14:38:38.819627Z",
     "iopub.status.idle": "2025-05-21T14:38:38.849244Z",
     "shell.execute_reply": "2025-05-21T14:38:38.848227Z",
     "shell.execute_reply.started": "2025-05-21T14:38:38.820124Z"
    },
    "trusted": true
   },
   "outputs": [
    {
     "data": {
      "text/html": [
       "<div>\n",
       "<style scoped>\n",
       "    .dataframe tbody tr th:only-of-type {\n",
       "        vertical-align: middle;\n",
       "    }\n",
       "\n",
       "    .dataframe tbody tr th {\n",
       "        vertical-align: top;\n",
       "    }\n",
       "\n",
       "    .dataframe thead th {\n",
       "        text-align: right;\n",
       "    }\n",
       "</style>\n",
       "<table border=\"1\" class=\"dataframe\">\n",
       "  <thead>\n",
       "    <tr style=\"text-align: right;\">\n",
       "      <th></th>\n",
       "      <th>target__bike_name</th>\n",
       "      <th>target__city</th>\n",
       "      <th>onehot__state_Andhra Pradesh</th>\n",
       "      <th>onehot__state_Assam</th>\n",
       "      <th>onehot__state_Bihar</th>\n",
       "      <th>onehot__state_Chandigarh</th>\n",
       "      <th>onehot__state_Chhattisgarh</th>\n",
       "      <th>onehot__state_Dadra and Nagar Haveli and Daman and Diu</th>\n",
       "      <th>onehot__state_Delhi</th>\n",
       "      <th>onehot__state_Goa</th>\n",
       "      <th>...</th>\n",
       "      <th>onehot__brand_Rajdoot</th>\n",
       "      <th>onehot__brand_Royal Enfield</th>\n",
       "      <th>onehot__brand_Suzuki</th>\n",
       "      <th>onehot__brand_TVS</th>\n",
       "      <th>onehot__brand_Triumph</th>\n",
       "      <th>onehot__brand_Yamaha</th>\n",
       "      <th>onehot__brand_Yezdi</th>\n",
       "      <th>numeric__kms_driven</th>\n",
       "      <th>numeric__age</th>\n",
       "      <th>numeric__power</th>\n",
       "    </tr>\n",
       "  </thead>\n",
       "  <tbody>\n",
       "    <tr>\n",
       "      <th>18164</th>\n",
       "      <td>-0.665337</td>\n",
       "      <td>-0.431676</td>\n",
       "      <td>0.0</td>\n",
       "      <td>0.0</td>\n",
       "      <td>0.0</td>\n",
       "      <td>0.0</td>\n",
       "      <td>0.0</td>\n",
       "      <td>0.0</td>\n",
       "      <td>0.0</td>\n",
       "      <td>0.0</td>\n",
       "      <td>...</td>\n",
       "      <td>0.0</td>\n",
       "      <td>0.0</td>\n",
       "      <td>0.0</td>\n",
       "      <td>0.0</td>\n",
       "      <td>0.0</td>\n",
       "      <td>0.0</td>\n",
       "      <td>0.0</td>\n",
       "      <td>-0.161501</td>\n",
       "      <td>-0.016764</td>\n",
       "      <td>-0.843564</td>\n",
       "    </tr>\n",
       "    <tr>\n",
       "      <th>23416</th>\n",
       "      <td>-0.088906</td>\n",
       "      <td>-0.212059</td>\n",
       "      <td>0.0</td>\n",
       "      <td>0.0</td>\n",
       "      <td>0.0</td>\n",
       "      <td>0.0</td>\n",
       "      <td>0.0</td>\n",
       "      <td>0.0</td>\n",
       "      <td>0.0</td>\n",
       "      <td>0.0</td>\n",
       "      <td>...</td>\n",
       "      <td>0.0</td>\n",
       "      <td>0.0</td>\n",
       "      <td>0.0</td>\n",
       "      <td>0.0</td>\n",
       "      <td>0.0</td>\n",
       "      <td>1.0</td>\n",
       "      <td>0.0</td>\n",
       "      <td>0.024952</td>\n",
       "      <td>0.231089</td>\n",
       "      <td>-0.470494</td>\n",
       "    </tr>\n",
       "    <tr>\n",
       "      <th>23895</th>\n",
       "      <td>-0.428240</td>\n",
       "      <td>-0.405439</td>\n",
       "      <td>0.0</td>\n",
       "      <td>0.0</td>\n",
       "      <td>0.0</td>\n",
       "      <td>0.0</td>\n",
       "      <td>0.0</td>\n",
       "      <td>0.0</td>\n",
       "      <td>0.0</td>\n",
       "      <td>0.0</td>\n",
       "      <td>...</td>\n",
       "      <td>0.0</td>\n",
       "      <td>0.0</td>\n",
       "      <td>1.0</td>\n",
       "      <td>0.0</td>\n",
       "      <td>0.0</td>\n",
       "      <td>0.0</td>\n",
       "      <td>0.0</td>\n",
       "      <td>-0.649914</td>\n",
       "      <td>0.974648</td>\n",
       "      <td>-0.657029</td>\n",
       "    </tr>\n",
       "    <tr>\n",
       "      <th>17013</th>\n",
       "      <td>-0.644497</td>\n",
       "      <td>-0.758348</td>\n",
       "      <td>0.0</td>\n",
       "      <td>0.0</td>\n",
       "      <td>0.0</td>\n",
       "      <td>0.0</td>\n",
       "      <td>0.0</td>\n",
       "      <td>0.0</td>\n",
       "      <td>0.0</td>\n",
       "      <td>0.0</td>\n",
       "      <td>...</td>\n",
       "      <td>0.0</td>\n",
       "      <td>0.0</td>\n",
       "      <td>0.0</td>\n",
       "      <td>0.0</td>\n",
       "      <td>0.0</td>\n",
       "      <td>1.0</td>\n",
       "      <td>0.0</td>\n",
       "      <td>1.141171</td>\n",
       "      <td>0.478942</td>\n",
       "      <td>-0.470494</td>\n",
       "    </tr>\n",
       "    <tr>\n",
       "      <th>4706</th>\n",
       "      <td>1.062952</td>\n",
       "      <td>0.041131</td>\n",
       "      <td>0.0</td>\n",
       "      <td>0.0</td>\n",
       "      <td>0.0</td>\n",
       "      <td>0.0</td>\n",
       "      <td>0.0</td>\n",
       "      <td>0.0</td>\n",
       "      <td>0.0</td>\n",
       "      <td>0.0</td>\n",
       "      <td>...</td>\n",
       "      <td>0.0</td>\n",
       "      <td>0.0</td>\n",
       "      <td>0.0</td>\n",
       "      <td>0.0</td>\n",
       "      <td>0.0</td>\n",
       "      <td>0.0</td>\n",
       "      <td>0.0</td>\n",
       "      <td>0.636640</td>\n",
       "      <td>-0.512469</td>\n",
       "      <td>1.320240</td>\n",
       "    </tr>\n",
       "  </tbody>\n",
       "</table>\n",
       "<p>5 rows × 61 columns</p>\n",
       "</div>"
      ],
      "text/plain": [
       "       target__bike_name  target__city  onehot__state_Andhra Pradesh  \\\n",
       "18164          -0.665337     -0.431676                           0.0   \n",
       "23416          -0.088906     -0.212059                           0.0   \n",
       "23895          -0.428240     -0.405439                           0.0   \n",
       "17013          -0.644497     -0.758348                           0.0   \n",
       "4706            1.062952      0.041131                           0.0   \n",
       "\n",
       "       onehot__state_Assam  onehot__state_Bihar  onehot__state_Chandigarh  \\\n",
       "18164                  0.0                  0.0                       0.0   \n",
       "23416                  0.0                  0.0                       0.0   \n",
       "23895                  0.0                  0.0                       0.0   \n",
       "17013                  0.0                  0.0                       0.0   \n",
       "4706                   0.0                  0.0                       0.0   \n",
       "\n",
       "       onehot__state_Chhattisgarh  \\\n",
       "18164                         0.0   \n",
       "23416                         0.0   \n",
       "23895                         0.0   \n",
       "17013                         0.0   \n",
       "4706                          0.0   \n",
       "\n",
       "       onehot__state_Dadra and Nagar Haveli and Daman and Diu  \\\n",
       "18164                                                0.0        \n",
       "23416                                                0.0        \n",
       "23895                                                0.0        \n",
       "17013                                                0.0        \n",
       "4706                                                 0.0        \n",
       "\n",
       "       onehot__state_Delhi  onehot__state_Goa  ...  onehot__brand_Rajdoot  \\\n",
       "18164                  0.0                0.0  ...                    0.0   \n",
       "23416                  0.0                0.0  ...                    0.0   \n",
       "23895                  0.0                0.0  ...                    0.0   \n",
       "17013                  0.0                0.0  ...                    0.0   \n",
       "4706                   0.0                0.0  ...                    0.0   \n",
       "\n",
       "       onehot__brand_Royal Enfield  onehot__brand_Suzuki  onehot__brand_TVS  \\\n",
       "18164                          0.0                   0.0                0.0   \n",
       "23416                          0.0                   0.0                0.0   \n",
       "23895                          0.0                   1.0                0.0   \n",
       "17013                          0.0                   0.0                0.0   \n",
       "4706                           0.0                   0.0                0.0   \n",
       "\n",
       "       onehot__brand_Triumph  onehot__brand_Yamaha  onehot__brand_Yezdi  \\\n",
       "18164                    0.0                   0.0                  0.0   \n",
       "23416                    0.0                   1.0                  0.0   \n",
       "23895                    0.0                   0.0                  0.0   \n",
       "17013                    0.0                   1.0                  0.0   \n",
       "4706                     0.0                   0.0                  0.0   \n",
       "\n",
       "       numeric__kms_driven  numeric__age  numeric__power  \n",
       "18164            -0.161501     -0.016764       -0.843564  \n",
       "23416             0.024952      0.231089       -0.470494  \n",
       "23895            -0.649914      0.974648       -0.657029  \n",
       "17013             1.141171      0.478942       -0.470494  \n",
       "4706              0.636640     -0.512469        1.320240  \n",
       "\n",
       "[5 rows x 61 columns]"
      ]
     },
     "execution_count": 31,
     "metadata": {},
     "output_type": "execute_result"
    }
   ],
   "source": [
    "X_train_processed.sample(5)"
   ]
  },
  {
   "cell_type": "code",
   "execution_count": 73,
   "metadata": {
    "execution": {
     "iopub.execute_input": "2025-05-21T14:38:38.850597Z",
     "iopub.status.busy": "2025-05-21T14:38:38.850334Z",
     "iopub.status.idle": "2025-05-21T14:38:38.855335Z",
     "shell.execute_reply": "2025-05-21T14:38:38.854549Z",
     "shell.execute_reply.started": "2025-05-21T14:38:38.850573Z"
    },
    "trusted": true
   },
   "outputs": [],
   "source": [
    "import pickle\n",
    "\n",
    "with open('preprocessor.pkl', 'wb') as f:\n",
    "    pickle.dump(full_preprocessor, f)\n",
    "\n",
    "# import joblib\n",
    "# preprocessor = joblib.load('preprocessor.pkl')\n",
    "\n",
    "# # X_input must be a DataFrame with the same columns\n",
    "# X_input_processed = preprocessor.transform(X_input)"
   ]
  },
  {
   "cell_type": "code",
   "execution_count": 74,
   "metadata": {},
   "outputs": [
    {
     "name": "stdout",
     "output_type": "stream",
     "text": [
      "<class 'sklearn.compose._column_transformer.ColumnTransformer'>\n"
     ]
    }
   ],
   "source": [
    "with open('preprocessor.pkl', 'rb') as f:\n",
    "    pre = pickle.load(f)\n",
    "\n",
    "print(type(pre))"
   ]
  },
  {
   "cell_type": "code",
   "execution_count": 33,
   "metadata": {
    "execution": {
     "iopub.execute_input": "2025-05-21T14:38:38.856846Z",
     "iopub.status.busy": "2025-05-21T14:38:38.856503Z",
     "iopub.status.idle": "2025-05-21T14:38:38.879528Z",
     "shell.execute_reply": "2025-05-21T14:38:38.878409Z",
     "shell.execute_reply.started": "2025-05-21T14:38:38.856816Z"
    },
    "trusted": true
   },
   "outputs": [
    {
     "data": {
      "text/plain": [
       "Index(['target__bike_name', 'target__city', 'onehot__state_Andhra Pradesh',\n",
       "       'onehot__state_Assam', 'onehot__state_Bihar',\n",
       "       'onehot__state_Chandigarh', 'onehot__state_Chhattisgarh',\n",
       "       'onehot__state_Dadra and Nagar Haveli and Daman and Diu',\n",
       "       'onehot__state_Delhi', 'onehot__state_Goa', 'onehot__state_Gujarat',\n",
       "       'onehot__state_Haryana', 'onehot__state_Himachal Pradesh',\n",
       "       'onehot__state_Jammu and Kashmir', 'onehot__state_Jharkhand',\n",
       "       'onehot__state_Karnataka', 'onehot__state_Kerala',\n",
       "       'onehot__state_Madhya Pradesh', 'onehot__state_Maharashtra',\n",
       "       'onehot__state_Meghalaya', 'onehot__state_Odisha',\n",
       "       'onehot__state_Puducherry', 'onehot__state_Punjab',\n",
       "       'onehot__state_Rajasthan', 'onehot__state_Sikkim',\n",
       "       'onehot__state_Tamil Nadu', 'onehot__state_Telangana',\n",
       "       'onehot__state_Tripura', 'onehot__state_Uttar Pradesh',\n",
       "       'onehot__state_Uttarakhand', 'onehot__state_West Bengal',\n",
       "       'onehot__owner_First Owner', 'onehot__owner_Fourth Owner Or More',\n",
       "       'onehot__owner_Second Owner', 'onehot__owner_Third Owner',\n",
       "       'onehot__brand_BMW', 'onehot__brand_Bajaj', 'onehot__brand_Benelli',\n",
       "       'onehot__brand_Ducati', 'onehot__brand_Harley-Davidson',\n",
       "       'onehot__brand_Hero', 'onehot__brand_Honda', 'onehot__brand_Hyosung',\n",
       "       'onehot__brand_Ideal', 'onehot__brand_Indian', 'onehot__brand_Jawa',\n",
       "       'onehot__brand_KTM', 'onehot__brand_Kawasaki', 'onehot__brand_LML',\n",
       "       'onehot__brand_MV', 'onehot__brand_Mahindra', 'onehot__brand_Rajdoot',\n",
       "       'onehot__brand_Royal Enfield', 'onehot__brand_Suzuki',\n",
       "       'onehot__brand_TVS', 'onehot__brand_Triumph', 'onehot__brand_Yamaha',\n",
       "       'onehot__brand_Yezdi', 'numeric__kms_driven', 'numeric__age',\n",
       "       'numeric__power'],\n",
       "      dtype='object')"
      ]
     },
     "execution_count": 33,
     "metadata": {},
     "output_type": "execute_result"
    }
   ],
   "source": [
    "X_train_processed.columns"
   ]
  },
  {
   "cell_type": "code",
   "execution_count": 34,
   "metadata": {
    "execution": {
     "iopub.execute_input": "2025-05-21T14:38:38.880851Z",
     "iopub.status.busy": "2025-05-21T14:38:38.880537Z",
     "iopub.status.idle": "2025-05-21T14:38:38.914000Z",
     "shell.execute_reply": "2025-05-21T14:38:38.913134Z",
     "shell.execute_reply.started": "2025-05-21T14:38:38.880821Z"
    },
    "trusted": true
   },
   "outputs": [
    {
     "name": "stdout",
     "output_type": "stream",
     "text": [
      "(18485, 61) (6162, 61)\n"
     ]
    }
   ],
   "source": [
    "from sklearn.model_selection import train_test_split\n",
    "\n",
    "X_train, X_val, y_train, y_val = train_test_split(X_train_processed, y_train, shuffle=True, random_state=41)\n",
    "\n",
    "print(X_train.shape, X_val.shape)"
   ]
  },
  {
   "cell_type": "code",
   "execution_count": 42,
   "metadata": {
    "execution": {
     "iopub.execute_input": "2025-05-21T14:38:38.915492Z",
     "iopub.status.busy": "2025-05-21T14:38:38.915140Z",
     "iopub.status.idle": "2025-05-21T14:38:39.572893Z",
     "shell.execute_reply": "2025-05-21T14:38:39.572109Z",
     "shell.execute_reply.started": "2025-05-21T14:38:38.915468Z"
    },
    "trusted": true
   },
   "outputs": [
    {
     "name": "stdout",
     "output_type": "stream",
     "text": [
      "✅ Model Performance:\n",
      "MAE : 3595.1292\n",
      "MSE : 613733454.1764\n",
      "RMSE: 24773.6443\n",
      "R²  : 0.9388\n"
     ]
    }
   ],
   "source": [
    "import xgboost as xgb\n",
    "from sklearn.metrics import mean_absolute_error, mean_squared_error, r2_score\n",
    "\n",
    "xgb_model = xgb.XGBRegressor(\n",
    "        objective='reg:squarederror',\n",
    "        random_state=41,\n",
    "        verbosity=1,\n",
    "        n_jobs=-1\n",
    "    )\n",
    "\n",
    "def fit_predict_score(model, X_train, y_train, X_val, y_val):\n",
    "    # Fit model\n",
    "    model.fit(X_train, y_train)\n",
    "\n",
    "    # Predict\n",
    "    y_pred = model.predict(X_val)\n",
    "\n",
    "    # Score\n",
    "    mae = mean_absolute_error(y_val, y_pred)\n",
    "    mse = mean_squared_error(y_val, y_pred)\n",
    "    rmse = np.sqrt(mse)\n",
    "    r2 = r2_score(y_val, y_pred)\n",
    "\n",
    "    print(f\"✅ Model Performance:\")\n",
    "    print(f\"MAE : {mae:.4f}\")\n",
    "    print(f\"MSE : {mse:.4f}\")\n",
    "    print(f\"RMSE: {rmse:.4f}\")\n",
    "    print(f\"R²  : {r2:.4f}\")\n",
    "    \n",
    "    return y_pred, {'mae': mae, 'mse': mse, 'rmse': rmse, 'r2': r2}\n",
    "\n",
    "# Fit and evaluate\n",
    "y_pred, scores = fit_predict_score(xgb_model, X_train, y_train, X_val, y_val)"
   ]
  },
  {
   "cell_type": "code",
   "execution_count": 58,
   "metadata": {
    "execution": {
     "iopub.execute_input": "2025-05-21T14:38:39.573758Z",
     "iopub.status.busy": "2025-05-21T14:38:39.573531Z",
     "iopub.status.idle": "2025-05-21T14:38:39.580393Z",
     "shell.execute_reply": "2025-05-21T14:38:39.579667Z",
     "shell.execute_reply.started": "2025-05-21T14:38:39.573739Z"
    },
    "trusted": true
   },
   "outputs": [
    {
     "name": "stdout",
     "output_type": "stream",
     "text": [
      "Fitting 5 folds for each of 100 candidates, totalling 500 fits\n",
      "✅ Best Parameters:\n",
      "{'subsample': 0.9999999999999999, 'reg_lambda': 2.0, 'reg_alpha': 0.8, 'n_estimators': 250, 'min_child_weight': 5, 'max_depth': 8, 'learning_rate': 0.060000000000000005, 'colsample_bytree': 0.9999999999999999}\n",
      "✅ Model Performance:\n",
      "MAE : 3851.1867\n",
      "MSE : 671082918.4156\n",
      "RMSE: 25905.2682\n",
      "R²  : 0.9331\n"
     ]
    }
   ],
   "source": [
    "from xgboost import XGBRegressor\n",
    "from sklearn.model_selection import RandomizedSearchCV\n",
    "from numpy import arange\n",
    "\n",
    "param_dist = {\n",
    "    'n_estimators': [int(x) for x in range(100, 301, 50)],  # 100, 150, 200, 250, 300\n",
    "    'learning_rate': list(arange(0.03, 0.11, 0.01)),        # 0.03 to 0.10 (step 0.01)\n",
    "    'max_depth': list(range(4, 11, 2)),                     # 4, 6, 8, 10\n",
    "    'min_child_weight': list(range(1, 7, 2)),               # 1, 3, 5\n",
    "    'subsample': list(arange(0.7, 1.01, 0.1)),              # 0.7, 0.8, 0.9, 1.0\n",
    "    'colsample_bytree': list(arange(0.7, 1.01, 0.1)),       # 0.7, 0.8, 0.9, 1.0\n",
    "    'reg_alpha': list(arange(0, 1.1, 0.2)),                 # 0.0, 0.2, ..., 1.0\n",
    "    'reg_lambda': list(arange(0.5, 2.1, 0.3))               # 0.5, 0.8, ..., 2.0\n",
    "}\n",
    "\n",
    "xgb_base = XGBRegressor(\n",
    "    objective='reg:squarederror',\n",
    "    n_jobs=-1,\n",
    "    random_state=41\n",
    ")\n",
    "\n",
    "random_search = RandomizedSearchCV(\n",
    "    estimator=xgb_base,\n",
    "    param_distributions=param_dist,\n",
    "    scoring='r2',\n",
    "    n_iter=100,\n",
    "    random_state=41,\n",
    "    cv=5,\n",
    "    verbose=1,\n",
    "    n_jobs=-1\n",
    ")\n",
    "\n",
    "random_search.fit(X_train, y_train)\n",
    "best_model = random_search.best_estimator_\n",
    "print(\"✅ Best Parameters:\")\n",
    "print(random_search.best_params_)\n",
    "y_pred, scores = fit_predict_score(best_model, X_train, y_train, X_val, y_val)"
   ]
  },
  {
   "cell_type": "code",
   "execution_count": 71,
   "metadata": {},
   "outputs": [
    {
     "data": {
      "text/plain": [
       "['model.pkl']"
      ]
     },
     "execution_count": 71,
     "metadata": {},
     "output_type": "execute_result"
    }
   ],
   "source": [
    "import joblib\n",
    "joblib.dump(best_model, 'model.pkl')"
   ]
  },
  {
   "cell_type": "code",
   "execution_count": 64,
   "metadata": {
    "execution": {
     "iopub.execute_input": "2025-05-21T14:40:28.265076Z",
     "iopub.status.busy": "2025-05-21T14:40:28.264754Z",
     "iopub.status.idle": "2025-05-21T14:40:28.594961Z",
     "shell.execute_reply": "2025-05-21T14:40:28.593844Z",
     "shell.execute_reply.started": "2025-05-21T14:40:28.265053Z"
    },
    "trusted": true
   },
   "outputs": [
    {
     "data": {
      "image/png": "[encoded data removed]",
      "text/plain": [
       "<Figure size 640x480 with 1 Axes>"
      ]
     },
     "metadata": {},
     "output_type": "display_data"
    }
   ],
   "source": [
    "xgb.plot_importance(best_model, max_num_features=20)\n",
    "import matplotlib.pyplot as plt\n",
    "plt.show()"
   ]
  },
  {
   "cell_type": "code",
   "execution_count": 65,
   "metadata": {
    "execution": {
     "iopub.execute_input": "2025-05-21T15:00:56.737424Z",
     "iopub.status.busy": "2025-05-21T15:00:56.737056Z",
     "iopub.status.idle": "2025-05-21T15:00:56.987694Z",
     "shell.execute_reply": "2025-05-21T15:00:56.986692Z",
     "shell.execute_reply.started": "2025-05-21T15:00:56.737400Z"
    },
    "trusted": true
   },
   "outputs": [
    {
     "data": {
      "image/png": "[encoded data removed]",
      "text/plain": [
       "<Figure size 1000x400 with 1 Axes>"
      ]
     },
     "metadata": {},
     "output_type": "display_data"
    }
   ],
   "source": [
    "from xgboost import plot_importance\n",
    "\n",
    "# Get raw F-score (weight-based) importances\n",
    "fscore_dict = best_model.get_booster().get_score(importance_type='weight')\n",
    "\n",
    "# Convert to DataFrame\n",
    "fscore_df = pd.DataFrame(list(fscore_dict.items()), columns=['Feature', 'Fscore'])\n",
    "\n",
    "# Total F-score\n",
    "total_fscore = fscore_df['Fscore'].sum()\n",
    "\n",
    "# Calculate percentage importance\n",
    "fscore_df['Importance (%)'] = 100 * fscore_df['Fscore'] / total_fscore\n",
    "\n",
    "# Sort by importance\n",
    "fscore_df = fscore_df.sort_values(by='Importance (%)', ascending=False)\n",
    "\n",
    "# Plot Top 20 Features\n",
    "top_n = 10\n",
    "top_features = fscore_df.head(top_n)\n",
    "\n",
    "plt.figure(figsize=(10, 4))\n",
    "plt.barh(top_features['Feature'], top_features['Importance (%)'], color='cornflowerblue')\n",
    "plt.xlabel('Importance (%)')\n",
    "plt.title(f'Top {top_n} XGB Regressor Feature Importances (based on F-score)')\n",
    "plt.gca().invert_yaxis()\n",
    "plt.grid(True, linestyle='--', alpha=0.5)\n",
    "plt.tight_layout()\n",
    "plt.show()"
   ]
  },
  {
   "cell_type": "code",
   "execution_count": 61,
   "metadata": {
    "execution": {
     "iopub.execute_input": "2025-05-21T14:40:28.971130Z",
     "iopub.status.busy": "2025-05-21T14:40:28.970758Z",
     "iopub.status.idle": "2025-05-21T14:40:28.983041Z",
     "shell.execute_reply": "2025-05-21T14:40:28.981621Z",
     "shell.execute_reply.started": "2025-05-21T14:40:28.971098Z"
    },
    "trusted": true
   },
   "outputs": [
    {
     "data": {
      "text/html": [
       "<div>\n",
       "<style scoped>\n",
       "    .dataframe tbody tr th:only-of-type {\n",
       "        vertical-align: middle;\n",
       "    }\n",
       "\n",
       "    .dataframe tbody tr th {\n",
       "        vertical-align: top;\n",
       "    }\n",
       "\n",
       "    .dataframe thead th {\n",
       "        text-align: right;\n",
       "    }\n",
       "</style>\n",
       "<table border=\"1\" class=\"dataframe\">\n",
       "  <thead>\n",
       "    <tr style=\"text-align: right;\">\n",
       "      <th></th>\n",
       "      <th>Feature</th>\n",
       "      <th>Fscore</th>\n",
       "      <th>Importance (%)</th>\n",
       "    </tr>\n",
       "  </thead>\n",
       "  <tbody>\n",
       "    <tr>\n",
       "      <th>0</th>\n",
       "      <td>target__bike_name</td>\n",
       "      <td>769.0</td>\n",
       "      <td>19.932608</td>\n",
       "    </tr>\n",
       "    <tr>\n",
       "      <th>52</th>\n",
       "      <td>numeric__kms_driven</td>\n",
       "      <td>763.0</td>\n",
       "      <td>19.777087</td>\n",
       "    </tr>\n",
       "    <tr>\n",
       "      <th>1</th>\n",
       "      <td>target__city</td>\n",
       "      <td>477.0</td>\n",
       "      <td>12.363919</td>\n",
       "    </tr>\n",
       "    <tr>\n",
       "      <th>53</th>\n",
       "      <td>numeric__age</td>\n",
       "      <td>450.0</td>\n",
       "      <td>11.664075</td>\n",
       "    </tr>\n",
       "    <tr>\n",
       "      <th>54</th>\n",
       "      <td>numeric__power</td>\n",
       "      <td>395.0</td>\n",
       "      <td>10.238466</td>\n",
       "    </tr>\n",
       "  </tbody>\n",
       "</table>\n",
       "</div>"
      ],
      "text/plain": [
       "                Feature  Fscore  Importance (%)\n",
       "0     target__bike_name   769.0       19.932608\n",
       "52  numeric__kms_driven   763.0       19.777087\n",
       "1          target__city   477.0       12.363919\n",
       "53         numeric__age   450.0       11.664075\n",
       "54       numeric__power   395.0       10.238466"
      ]
     },
     "execution_count": 61,
     "metadata": {},
     "output_type": "execute_result"
    }
   ],
   "source": [
    "fscore_df.head()"
   ]
  },
  {
   "cell_type": "code",
   "execution_count": 62,
   "metadata": {
    "execution": {
     "iopub.execute_input": "2025-05-21T14:40:28.985876Z",
     "iopub.status.busy": "2025-05-21T14:40:28.985522Z",
     "iopub.status.idle": "2025-05-21T14:40:29.005661Z",
     "shell.execute_reply": "2025-05-21T14:40:29.004544Z",
     "shell.execute_reply.started": "2025-05-21T14:40:28.985853Z"
    },
    "trusted": true
   },
   "outputs": [],
   "source": [
    "from sklearn.model_selection import learning_curve\n",
    "\n",
    "def plot_learning_curve(estimator, X, y, cv=5, scoring='neg_mean_squared_error', train_sizes=np.linspace(0.1, 1.0, 5)):\n",
    "    train_sizes, train_scores, val_scores = learning_curve(\n",
    "        estimator, X, y,\n",
    "        cv=cv,\n",
    "        scoring=scoring,\n",
    "        train_sizes=train_sizes,\n",
    "        n_jobs=-1,\n",
    "        verbose=0\n",
    "    )\n",
    "\n",
    "    # Convert scores (neg MSE) to positive RMSE\n",
    "    train_rmse = np.sqrt(-train_scores)\n",
    "    val_rmse = np.sqrt(-val_scores)\n",
    "\n",
    "    # Mean and std\n",
    "    train_mean = np.mean(train_rmse, axis=1)\n",
    "    val_mean = np.mean(val_rmse, axis=1)\n",
    "    train_std = np.std(train_rmse, axis=1)\n",
    "    val_std = np.std(val_rmse, axis=1)\n",
    "\n",
    "    # Plot\n",
    "    plt.figure(figsize=(10, 4))\n",
    "    plt.plot(train_sizes, train_mean, label='Training RMSE', marker='o')\n",
    "    plt.plot(train_sizes, val_mean, label='Validation RMSE', marker='s')\n",
    "    plt.fill_between(train_sizes, train_mean - train_std, train_mean + train_std, alpha=0.2)\n",
    "    plt.fill_between(train_sizes, val_mean - val_std, val_mean + val_std, alpha=0.2)\n",
    "    plt.title('Learning Curve')\n",
    "    plt.xlabel('Training Set Size')\n",
    "    plt.ylabel('RMSE')\n",
    "    plt.legend()\n",
    "    plt.grid(True)\n",
    "    plt.tight_layout()\n",
    "    plt.show()"
   ]
  },
  {
   "cell_type": "code",
   "execution_count": 66,
   "metadata": {
    "execution": {
     "iopub.execute_input": "2025-05-21T14:40:29.007526Z",
     "iopub.status.busy": "2025-05-21T14:40:29.007115Z",
     "iopub.status.idle": "2025-05-21T14:40:36.615540Z",
     "shell.execute_reply": "2025-05-21T14:40:36.614485Z",
     "shell.execute_reply.started": "2025-05-21T14:40:29.007496Z"
    },
    "trusted": true
   },
   "outputs": [
    {
     "data": {
      "image/png": "[encoded data removed]",
      "text/plain": [
       "<Figure size 1000x400 with 1 Axes>"
      ]
     },
     "metadata": {},
     "output_type": "display_data"
    }
   ],
   "source": [
    "plot_learning_curve(best_model, X_train, y_train, cv=5)"
   ]
  },
  {
   "cell_type": "code",
   "execution_count": 43,
   "metadata": {
    "execution": {
     "iopub.execute_input": "2025-05-21T14:40:36.617229Z",
     "iopub.status.busy": "2025-05-21T14:40:36.616842Z",
     "iopub.status.idle": "2025-05-21T14:40:36.626235Z",
     "shell.execute_reply": "2025-05-21T14:40:36.625073Z",
     "shell.execute_reply.started": "2025-05-21T14:40:36.617197Z"
    },
    "trusted": true
   },
   "outputs": [],
   "source": [
    "from sklearn.model_selection import learning_curve\n",
    "\n",
    "def plot_learning_curve_r2(estimator, X, y, cv=5, train_sizes=np.linspace(0.1, 1.0, 5)):\n",
    "    train_sizes, train_scores, val_scores = learning_curve(\n",
    "        estimator, X, y,\n",
    "        cv=cv,\n",
    "        scoring='r2',  # R² score\n",
    "        train_sizes=train_sizes,\n",
    "        n_jobs=-1\n",
    "    )\n",
    "\n",
    "    train_mean = np.mean(train_scores, axis=1)\n",
    "    val_mean = np.mean(val_scores, axis=1)\n",
    "    train_std = np.std(train_scores, axis=1)\n",
    "    val_std = np.std(val_scores, axis=1)\n",
    "\n",
    "    # Plot\n",
    "    plt.figure(figsize=(10, 4))\n",
    "    plt.plot(train_sizes, train_mean, label='Training R²', marker='o')\n",
    "    plt.plot(train_sizes, val_mean, label='Validation R²', marker='s')\n",
    "    plt.fill_between(train_sizes, train_mean - train_std, train_mean + train_std, alpha=0.2)\n",
    "    plt.fill_between(train_sizes, val_mean - val_std, val_mean + val_std, alpha=0.2)\n",
    "    plt.title('Learning Curve (R² Score)')\n",
    "    plt.xlabel('Training Set Size')\n",
    "    plt.ylabel('R² Score')\n",
    "    plt.ylim(0, 1.05)\n",
    "    plt.legend()\n",
    "    plt.grid(True)\n",
    "    plt.tight_layout()\n",
    "    plt.show()"
   ]
  },
  {
   "cell_type": "code",
   "execution_count": 67,
   "metadata": {
    "execution": {
     "iopub.execute_input": "2025-05-21T14:40:36.627576Z",
     "iopub.status.busy": "2025-05-21T14:40:36.627272Z",
     "iopub.status.idle": "2025-05-21T14:40:40.750249Z",
     "shell.execute_reply": "2025-05-21T14:40:40.749217Z",
     "shell.execute_reply.started": "2025-05-21T14:40:36.627553Z"
    },
    "trusted": true
   },
   "outputs": [
    {
     "data": {
      "image/png": "[encoded data removed]",
      "text/plain": [
       "<Figure size 1000x400 with 1 Axes>"
      ]
     },
     "metadata": {},
     "output_type": "display_data"
    }
   ],
   "source": [
    "plot_learning_curve_r2(best_model, X_train, y_train)"
   ]
  },
  {
   "cell_type": "code",
   "execution_count": 45,
   "metadata": {
    "execution": {
     "iopub.execute_input": "2025-05-21T14:40:40.751678Z",
     "iopub.status.busy": "2025-05-21T14:40:40.751391Z",
     "iopub.status.idle": "2025-05-21T14:40:40.756478Z",
     "shell.execute_reply": "2025-05-21T14:40:40.755475Z",
     "shell.execute_reply.started": "2025-05-21T14:40:40.751655Z"
    },
    "trusted": true
   },
   "outputs": [],
   "source": [
    "from sklearn import set_config\n",
    "set_config(transform_output='default')"
   ]
  },
  {
   "cell_type": "code",
   "execution_count": 46,
   "metadata": {
    "execution": {
     "iopub.execute_input": "2025-05-21T14:40:40.757852Z",
     "iopub.status.busy": "2025-05-21T14:40:40.757576Z",
     "iopub.status.idle": "2025-05-21T14:40:41.777569Z",
     "shell.execute_reply": "2025-05-21T14:40:41.776611Z",
     "shell.execute_reply.started": "2025-05-21T14:40:40.757823Z"
    },
    "trusted": true
   },
   "outputs": [
    {
     "data": {
      "image/png": "[encoded data removed]",
      "text/plain": [
       "<Figure size 800x400 with 2 Axes>"
      ]
     },
     "metadata": {},
     "output_type": "display_data"
    }
   ],
   "source": [
    "from sklearn.decomposition import PCA\n",
    "\n",
    "# Apply PCA\n",
    "pca = PCA(n_components=2)\n",
    "X_pca = pca.fit_transform(X_train)\n",
    "\n",
    "# Plot the PCA-transformed data\n",
    "plt.figure(figsize=(8, 4))\n",
    "scatter = plt.scatter(X_pca[:, 0], X_pca[:, 1], c=y_train, cmap='viridis', edgecolor='k', alpha=0.7)\n",
    "plt.colorbar(scatter, label='Target (Price)')\n",
    "plt.title('PCA (2 Components) Colored by Target')\n",
    "plt.xlabel('Principal Component 1')\n",
    "plt.ylabel('Principal Component 2')\n",
    "plt.grid(True, linestyle='--', alpha=0.5)\n",
    "plt.tight_layout()\n",
    "plt.show()"
   ]
  },
  {
   "cell_type": "code",
   "execution_count": 47,
   "metadata": {
    "execution": {
     "iopub.execute_input": "2025-05-21T14:40:41.780941Z",
     "iopub.status.busy": "2025-05-21T14:40:41.780460Z",
     "iopub.status.idle": "2025-05-21T14:40:41.796159Z",
     "shell.execute_reply": "2025-05-21T14:40:41.795162Z",
     "shell.execute_reply.started": "2025-05-21T14:40:41.780913Z"
    },
    "trusted": true
   },
   "outputs": [
    {
     "data": {
      "text/html": [
       "<div>\n",
       "<style scoped>\n",
       "    .dataframe tbody tr th:only-of-type {\n",
       "        vertical-align: middle;\n",
       "    }\n",
       "\n",
       "    .dataframe tbody tr th {\n",
       "        vertical-align: top;\n",
       "    }\n",
       "\n",
       "    .dataframe thead th {\n",
       "        text-align: right;\n",
       "    }\n",
       "</style>\n",
       "<table border=\"1\" class=\"dataframe\">\n",
       "  <thead>\n",
       "    <tr style=\"text-align: right;\">\n",
       "      <th></th>\n",
       "      <th>bike_name</th>\n",
       "      <th>city</th>\n",
       "      <th>kms_driven</th>\n",
       "      <th>owner</th>\n",
       "      <th>age</th>\n",
       "      <th>power</th>\n",
       "      <th>brand</th>\n",
       "      <th>state</th>\n",
       "    </tr>\n",
       "  </thead>\n",
       "  <tbody>\n",
       "    <tr>\n",
       "      <th>22625</th>\n",
       "      <td>Avenger Street</td>\n",
       "      <td>Mumbai</td>\n",
       "      <td>8000.0</td>\n",
       "      <td>First Owner</td>\n",
       "      <td>5.0</td>\n",
       "      <td>220.0</td>\n",
       "      <td>Bajaj</td>\n",
       "      <td>Maharashtra</td>\n",
       "    </tr>\n",
       "    <tr>\n",
       "      <th>30764</th>\n",
       "      <td>Avenger Street</td>\n",
       "      <td>Delhi</td>\n",
       "      <td>20373.0</td>\n",
       "      <td>First Owner</td>\n",
       "      <td>6.0</td>\n",
       "      <td>220.0</td>\n",
       "      <td>Bajaj</td>\n",
       "      <td>Delhi</td>\n",
       "    </tr>\n",
       "    <tr>\n",
       "      <th>6578</th>\n",
       "      <td>Enfield Classic</td>\n",
       "      <td>Faridabad</td>\n",
       "      <td>15932.0</td>\n",
       "      <td>First Owner</td>\n",
       "      <td>4.0</td>\n",
       "      <td>350.0</td>\n",
       "      <td>Royal Enfield</td>\n",
       "      <td>Haryana</td>\n",
       "    </tr>\n",
       "    <tr>\n",
       "      <th>30065</th>\n",
       "      <td>Slingshot Plus</td>\n",
       "      <td>Lucknow</td>\n",
       "      <td>22697.0</td>\n",
       "      <td>First Owner</td>\n",
       "      <td>7.0</td>\n",
       "      <td>125.0</td>\n",
       "      <td>Suzuki</td>\n",
       "      <td>Uttar Pradesh</td>\n",
       "    </tr>\n",
       "    <tr>\n",
       "      <th>14229</th>\n",
       "      <td>Pulsar</td>\n",
       "      <td>Ghaziabad</td>\n",
       "      <td>64955.0</td>\n",
       "      <td>First Owner</td>\n",
       "      <td>15.0</td>\n",
       "      <td>150.0</td>\n",
       "      <td>Bajaj</td>\n",
       "      <td>Uttar Pradesh</td>\n",
       "    </tr>\n",
       "  </tbody>\n",
       "</table>\n",
       "</div>"
      ],
      "text/plain": [
       "             bike_name       city  kms_driven        owner   age  power  \\\n",
       "22625   Avenger Street     Mumbai      8000.0  First Owner   5.0  220.0   \n",
       "30764   Avenger Street      Delhi     20373.0  First Owner   6.0  220.0   \n",
       "6578   Enfield Classic  Faridabad     15932.0  First Owner   4.0  350.0   \n",
       "30065   Slingshot Plus    Lucknow     22697.0  First Owner   7.0  125.0   \n",
       "14229           Pulsar  Ghaziabad     64955.0  First Owner  15.0  150.0   \n",
       "\n",
       "               brand          state  \n",
       "22625          Bajaj    Maharashtra  \n",
       "30764          Bajaj          Delhi  \n",
       "6578   Royal Enfield        Haryana  \n",
       "30065         Suzuki  Uttar Pradesh  \n",
       "14229          Bajaj  Uttar Pradesh  "
      ]
     },
     "execution_count": 47,
     "metadata": {},
     "output_type": "execute_result"
    }
   ],
   "source": [
    "X_test.head()"
   ]
  },
  {
   "cell_type": "code",
   "execution_count": 68,
   "metadata": {
    "execution": {
     "iopub.execute_input": "2025-05-21T14:40:41.797799Z",
     "iopub.status.busy": "2025-05-21T14:40:41.797501Z",
     "iopub.status.idle": "2025-05-21T14:40:42.119828Z",
     "shell.execute_reply": "2025-05-21T14:40:42.119032Z",
     "shell.execute_reply.started": "2025-05-21T14:40:41.797777Z"
    },
    "trusted": true
   },
   "outputs": [
    {
     "name": "stdout",
     "output_type": "stream",
     "text": [
      "✅ Model Performance:\n",
      "MAE : 3491.9447\n",
      "MSE : 398623028.7719\n",
      "RMSE: 19965.5460\n",
      "R²  : 0.9487\n"
     ]
    }
   ],
   "source": [
    "y_pred_test, scores = fit_predict_score(best_model, X_train, y_train, X_test_processed, y_test)"
   ]
  },
  {
   "cell_type": "code",
   "execution_count": 69,
   "metadata": {
    "execution": {
     "iopub.execute_input": "2025-05-21T14:55:41.862179Z",
     "iopub.status.busy": "2025-05-21T14:55:41.861775Z",
     "iopub.status.idle": "2025-05-21T14:55:47.838128Z",
     "shell.execute_reply": "2025-05-21T14:55:47.836827Z",
     "shell.execute_reply.started": "2025-05-21T14:55:41.862154Z"
    },
    "trusted": true
   },
   "outputs": [
    {
     "name": "stdout",
     "output_type": "stream",
     "text": [
      "✅ Model Performance:\n",
      "MAE : 3069.7989\n",
      "MSE : 340836752.2249\n",
      "RMSE: 18461.7646\n",
      "R²  : 0.9562\n"
     ]
    }
   ],
   "source": [
    "from sklearn.ensemble import RandomForestRegressor\n",
    "\n",
    "rf = RandomForestRegressor(oob_score = True, bootstrap=True, random_state = 41)\n",
    "\n",
    "y_pred_rf, scores = fit_predict_score(rf, X_train, y_train, X_test_processed, y_test)"
   ]
  }
 ],
 "metadata": {
  "kaggle": {
   "accelerator": "none",
   "dataSources": [
    {
     "datasetId": 1381603,
     "sourceId": 2292177,
     "sourceType": "datasetVersion"
    },
    {
     "datasetId": 7470065,
     "sourceId": 11885283,
     "sourceType": "datasetVersion"
    }
   ],
   "dockerImageVersionId": 31040,
   "isGpuEnabled": false,
   "isInternetEnabled": true,
   "language": "python",
   "sourceType": "notebook"
  },
  "kernelspec": {
   "display_name": "Python 3",
   "language": "python",
   "name": "python3"
  },
  "language_info": {
   "codemirror_mode": {
    "name": "ipython",
    "version": 3
   },
   "file_extension": ".py",
   "mimetype": "text/x-python",
   "name": "python",
   "nbconvert_exporter": "python",
   "pygments_lexer": "ipython3",
   "version": "3.12.5"
  }
 },
 "nbformat": 4,
 "nbformat_minor": 4
}
